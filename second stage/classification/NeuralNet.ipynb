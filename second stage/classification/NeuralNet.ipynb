{
  "nbformat": 4,
  "nbformat_minor": 0,
  "metadata": {
    "kernelspec": {
      "display_name": "Python 3",
      "language": "python",
      "name": "python3"
    },
    "language_info": {
      "codemirror_mode": {
        "name": "ipython",
        "version": 3
      },
      "file_extension": ".py",
      "mimetype": "text/x-python",
      "name": "python",
      "nbconvert_exporter": "python",
      "pygments_lexer": "ipython3",
      "version": "3.8.5"
    },
    "colab": {
      "name": "NeuralNet.ipynb",
      "provenance": []
    },
    "accelerator": "GPU"
  },
  "cells": [
    {
      "cell_type": "code",
      "metadata": {
        "colab": {
          "base_uri": "https://localhost:8080/"
        },
        "id": "YV4xBX_JHdH9",
        "outputId": "e087c45b-6bd4-485a-c4b2-104e0d892a19"
      },
      "source": [
        "import time\n",
        "import numpy as np\n",
        "import pandas as pd\n",
        "import matplotlib.pyplot as plt\n",
        "from tqdm.notebook import tqdm\n",
        "\n",
        "\n",
        "import random\n",
        "import torch\n",
        "from torch import nn\n",
        "\n",
        "def set_seed(seed=42):\n",
        "    random.seed(seed)\n",
        "    np.random.seed(seed)\n",
        "    torch.manual_seed(seed)\n",
        "    torch.cuda.manual_seed(seed)\n",
        "\n",
        "device = torch.device('cuda:0' if torch.cuda.is_available() else 'cpu')\n",
        "print(device)"
      ],
      "execution_count": 1,
      "outputs": [
        {
          "output_type": "stream",
          "text": [
            "cuda:0\n"
          ],
          "name": "stdout"
        }
      ]
    },
    {
      "cell_type": "code",
      "metadata": {
        "colab": {
          "base_uri": "https://localhost:8080/"
        },
        "id": "CJuqxpdmH2Zu",
        "outputId": "c45aa509-d357-416a-edd5-c302121e77eb"
      },
      "source": [
        "cd content/sample_data"
      ],
      "execution_count": 11,
      "outputs": [
        {
          "output_type": "stream",
          "text": [
            "/content/sample_data\n"
          ],
          "name": "stdout"
        }
      ]
    },
    {
      "cell_type": "code",
      "metadata": {
        "id": "7xm9YgM7HdID"
      },
      "source": [
        "data = pd.read_csv('preprocessed_data.csv')"
      ],
      "execution_count": 12,
      "outputs": []
    },
    {
      "cell_type": "code",
      "metadata": {
        "colab": {
          "base_uri": "https://localhost:8080/",
          "height": 232
        },
        "id": "1wGDXk4fHdIE",
        "outputId": "b994e3b8-a937-4dab-9091-088561801da7"
      },
      "source": [
        "data.head()"
      ],
      "execution_count": 13,
      "outputs": [
        {
          "output_type": "execute_result",
          "data": {
            "text/html": [
              "<div>\n",
              "<style scoped>\n",
              "    .dataframe tbody tr th:only-of-type {\n",
              "        vertical-align: middle;\n",
              "    }\n",
              "\n",
              "    .dataframe tbody tr th {\n",
              "        vertical-align: top;\n",
              "    }\n",
              "\n",
              "    .dataframe thead th {\n",
              "        text-align: right;\n",
              "    }\n",
              "</style>\n",
              "<table border=\"1\" class=\"dataframe\">\n",
              "  <thead>\n",
              "    <tr style=\"text-align: right;\">\n",
              "      <th></th>\n",
              "      <th>Age</th>\n",
              "      <th>BusinessTravel</th>\n",
              "      <th>DistanceFromHome</th>\n",
              "      <th>Education</th>\n",
              "      <th>Gender</th>\n",
              "      <th>JobLevel</th>\n",
              "      <th>MonthlyIncome</th>\n",
              "      <th>NumCompaniesWorked</th>\n",
              "      <th>PercentSalaryHike</th>\n",
              "      <th>StockOptionLevel</th>\n",
              "      <th>TotalWorkingYears</th>\n",
              "      <th>TrainingTimesLastYear</th>\n",
              "      <th>YearsAtCompany</th>\n",
              "      <th>YearsSinceLastPromotion</th>\n",
              "      <th>YearsWithCurrManager</th>\n",
              "      <th>EnvironmentSatisfaction</th>\n",
              "      <th>JobSatisfaction</th>\n",
              "      <th>WorkLifeBalance</th>\n",
              "      <th>JobInvolvement</th>\n",
              "      <th>PerformanceRating</th>\n",
              "      <th>Department_Human Resources</th>\n",
              "      <th>Department_Research &amp; Development</th>\n",
              "      <th>Department_Sales</th>\n",
              "      <th>EducationField_Human Resources</th>\n",
              "      <th>EducationField_Life Sciences</th>\n",
              "      <th>EducationField_Marketing</th>\n",
              "      <th>EducationField_Medical</th>\n",
              "      <th>EducationField_Other</th>\n",
              "      <th>EducationField_Technical Degree</th>\n",
              "      <th>JobRole_Healthcare Representative</th>\n",
              "      <th>JobRole_Human Resources</th>\n",
              "      <th>JobRole_Laboratory Technician</th>\n",
              "      <th>JobRole_Manager</th>\n",
              "      <th>JobRole_Manufacturing Director</th>\n",
              "      <th>JobRole_Research Director</th>\n",
              "      <th>JobRole_Research Scientist</th>\n",
              "      <th>JobRole_Sales Executive</th>\n",
              "      <th>JobRole_Sales Representative</th>\n",
              "      <th>MaritalStatus_Divorced</th>\n",
              "      <th>MaritalStatus_Married</th>\n",
              "      <th>MaritalStatus_Single</th>\n",
              "      <th>Attrition</th>\n",
              "    </tr>\n",
              "  </thead>\n",
              "  <tbody>\n",
              "    <tr>\n",
              "      <th>0</th>\n",
              "      <td>0.785714</td>\n",
              "      <td>0.5</td>\n",
              "      <td>0.178571</td>\n",
              "      <td>0.25</td>\n",
              "      <td>0.0</td>\n",
              "      <td>0.00</td>\n",
              "      <td>0.637546</td>\n",
              "      <td>0.111111</td>\n",
              "      <td>0.000000</td>\n",
              "      <td>0.000000</td>\n",
              "      <td>0.025</td>\n",
              "      <td>1.000000</td>\n",
              "      <td>0.025</td>\n",
              "      <td>0.000000</td>\n",
              "      <td>0.000000</td>\n",
              "      <td>0.666667</td>\n",
              "      <td>1.000000</td>\n",
              "      <td>0.333333</td>\n",
              "      <td>0.666667</td>\n",
              "      <td>0.0</td>\n",
              "      <td>0.0</td>\n",
              "      <td>0.0</td>\n",
              "      <td>1.0</td>\n",
              "      <td>0.0</td>\n",
              "      <td>1.0</td>\n",
              "      <td>0.0</td>\n",
              "      <td>0.0</td>\n",
              "      <td>0.0</td>\n",
              "      <td>0.0</td>\n",
              "      <td>1.0</td>\n",
              "      <td>0.0</td>\n",
              "      <td>0.0</td>\n",
              "      <td>0.0</td>\n",
              "      <td>0.0</td>\n",
              "      <td>0.0</td>\n",
              "      <td>0.0</td>\n",
              "      <td>0.0</td>\n",
              "      <td>0.0</td>\n",
              "      <td>0.0</td>\n",
              "      <td>1.0</td>\n",
              "      <td>0.0</td>\n",
              "      <td>0</td>\n",
              "    </tr>\n",
              "    <tr>\n",
              "      <th>1</th>\n",
              "      <td>0.309524</td>\n",
              "      <td>1.0</td>\n",
              "      <td>0.321429</td>\n",
              "      <td>0.00</td>\n",
              "      <td>0.0</td>\n",
              "      <td>0.00</td>\n",
              "      <td>0.167457</td>\n",
              "      <td>0.000000</td>\n",
              "      <td>0.857143</td>\n",
              "      <td>0.333333</td>\n",
              "      <td>0.150</td>\n",
              "      <td>0.500000</td>\n",
              "      <td>0.125</td>\n",
              "      <td>0.066667</td>\n",
              "      <td>0.235294</td>\n",
              "      <td>0.666667</td>\n",
              "      <td>0.333333</td>\n",
              "      <td>1.000000</td>\n",
              "      <td>0.333333</td>\n",
              "      <td>1.0</td>\n",
              "      <td>0.0</td>\n",
              "      <td>1.0</td>\n",
              "      <td>0.0</td>\n",
              "      <td>0.0</td>\n",
              "      <td>1.0</td>\n",
              "      <td>0.0</td>\n",
              "      <td>0.0</td>\n",
              "      <td>0.0</td>\n",
              "      <td>0.0</td>\n",
              "      <td>0.0</td>\n",
              "      <td>0.0</td>\n",
              "      <td>0.0</td>\n",
              "      <td>0.0</td>\n",
              "      <td>0.0</td>\n",
              "      <td>0.0</td>\n",
              "      <td>1.0</td>\n",
              "      <td>0.0</td>\n",
              "      <td>0.0</td>\n",
              "      <td>0.0</td>\n",
              "      <td>0.0</td>\n",
              "      <td>1.0</td>\n",
              "      <td>1</td>\n",
              "    </tr>\n",
              "    <tr>\n",
              "      <th>2</th>\n",
              "      <td>0.333333</td>\n",
              "      <td>1.0</td>\n",
              "      <td>0.571429</td>\n",
              "      <td>0.75</td>\n",
              "      <td>1.0</td>\n",
              "      <td>0.75</td>\n",
              "      <td>0.964666</td>\n",
              "      <td>0.111111</td>\n",
              "      <td>0.285714</td>\n",
              "      <td>1.000000</td>\n",
              "      <td>0.125</td>\n",
              "      <td>0.333333</td>\n",
              "      <td>0.125</td>\n",
              "      <td>0.000000</td>\n",
              "      <td>0.176471</td>\n",
              "      <td>0.333333</td>\n",
              "      <td>0.333333</td>\n",
              "      <td>0.000000</td>\n",
              "      <td>0.666667</td>\n",
              "      <td>0.0</td>\n",
              "      <td>0.0</td>\n",
              "      <td>1.0</td>\n",
              "      <td>0.0</td>\n",
              "      <td>0.0</td>\n",
              "      <td>0.0</td>\n",
              "      <td>0.0</td>\n",
              "      <td>0.0</td>\n",
              "      <td>1.0</td>\n",
              "      <td>0.0</td>\n",
              "      <td>0.0</td>\n",
              "      <td>0.0</td>\n",
              "      <td>0.0</td>\n",
              "      <td>0.0</td>\n",
              "      <td>0.0</td>\n",
              "      <td>0.0</td>\n",
              "      <td>0.0</td>\n",
              "      <td>1.0</td>\n",
              "      <td>0.0</td>\n",
              "      <td>0.0</td>\n",
              "      <td>1.0</td>\n",
              "      <td>0.0</td>\n",
              "      <td>0</td>\n",
              "    </tr>\n",
              "    <tr>\n",
              "      <th>3</th>\n",
              "      <td>0.476190</td>\n",
              "      <td>0.0</td>\n",
              "      <td>0.035714</td>\n",
              "      <td>1.00</td>\n",
              "      <td>1.0</td>\n",
              "      <td>0.50</td>\n",
              "      <td>0.385045</td>\n",
              "      <td>0.333333</td>\n",
              "      <td>0.000000</td>\n",
              "      <td>1.000000</td>\n",
              "      <td>0.325</td>\n",
              "      <td>0.833333</td>\n",
              "      <td>0.200</td>\n",
              "      <td>0.466667</td>\n",
              "      <td>0.294118</td>\n",
              "      <td>1.000000</td>\n",
              "      <td>1.000000</td>\n",
              "      <td>0.666667</td>\n",
              "      <td>0.333333</td>\n",
              "      <td>0.0</td>\n",
              "      <td>0.0</td>\n",
              "      <td>1.0</td>\n",
              "      <td>0.0</td>\n",
              "      <td>0.0</td>\n",
              "      <td>1.0</td>\n",
              "      <td>0.0</td>\n",
              "      <td>0.0</td>\n",
              "      <td>0.0</td>\n",
              "      <td>0.0</td>\n",
              "      <td>0.0</td>\n",
              "      <td>1.0</td>\n",
              "      <td>0.0</td>\n",
              "      <td>0.0</td>\n",
              "      <td>0.0</td>\n",
              "      <td>0.0</td>\n",
              "      <td>0.0</td>\n",
              "      <td>0.0</td>\n",
              "      <td>0.0</td>\n",
              "      <td>0.0</td>\n",
              "      <td>1.0</td>\n",
              "      <td>0.0</td>\n",
              "      <td>0</td>\n",
              "    </tr>\n",
              "    <tr>\n",
              "      <th>4</th>\n",
              "      <td>0.333333</td>\n",
              "      <td>0.5</td>\n",
              "      <td>0.321429</td>\n",
              "      <td>0.00</td>\n",
              "      <td>1.0</td>\n",
              "      <td>0.00</td>\n",
              "      <td>0.070195</td>\n",
              "      <td>0.444444</td>\n",
              "      <td>0.071429</td>\n",
              "      <td>0.666667</td>\n",
              "      <td>0.225</td>\n",
              "      <td>0.333333</td>\n",
              "      <td>0.150</td>\n",
              "      <td>0.000000</td>\n",
              "      <td>0.235294</td>\n",
              "      <td>1.000000</td>\n",
              "      <td>0.000000</td>\n",
              "      <td>0.666667</td>\n",
              "      <td>0.666667</td>\n",
              "      <td>0.0</td>\n",
              "      <td>0.0</td>\n",
              "      <td>1.0</td>\n",
              "      <td>0.0</td>\n",
              "      <td>0.0</td>\n",
              "      <td>0.0</td>\n",
              "      <td>0.0</td>\n",
              "      <td>1.0</td>\n",
              "      <td>0.0</td>\n",
              "      <td>0.0</td>\n",
              "      <td>0.0</td>\n",
              "      <td>0.0</td>\n",
              "      <td>0.0</td>\n",
              "      <td>0.0</td>\n",
              "      <td>0.0</td>\n",
              "      <td>0.0</td>\n",
              "      <td>0.0</td>\n",
              "      <td>1.0</td>\n",
              "      <td>0.0</td>\n",
              "      <td>0.0</td>\n",
              "      <td>0.0</td>\n",
              "      <td>1.0</td>\n",
              "      <td>0</td>\n",
              "    </tr>\n",
              "  </tbody>\n",
              "</table>\n",
              "</div>"
            ],
            "text/plain": [
              "        Age  BusinessTravel  ...  MaritalStatus_Single  Attrition\n",
              "0  0.785714             0.5  ...                   0.0          0\n",
              "1  0.309524             1.0  ...                   1.0          1\n",
              "2  0.333333             1.0  ...                   0.0          0\n",
              "3  0.476190             0.0  ...                   0.0          0\n",
              "4  0.333333             0.5  ...                   1.0          0\n",
              "\n",
              "[5 rows x 42 columns]"
            ]
          },
          "metadata": {
            "tags": []
          },
          "execution_count": 13
        }
      ]
    },
    {
      "cell_type": "code",
      "metadata": {
        "id": "WuTcsd8UHdIE"
      },
      "source": [
        "from torch.utils.data import DataLoader, Dataset"
      ],
      "execution_count": 14,
      "outputs": []
    },
    {
      "cell_type": "code",
      "metadata": {
        "id": "en3rT1-sHdIE"
      },
      "source": [
        "class DataSet(Dataset):\n",
        "    def __init__(self, X, y=None, mode='train'):\n",
        "        self.X = X\n",
        "        self.y = y\n",
        "        self.mode=mode\n",
        "        \n",
        "    def __len__(self,):\n",
        "        return len(self.X)\n",
        "    \n",
        "    def __getitem__(self, idx):\n",
        "        xi = torch.tensor(self.X[idx]).float()\n",
        "        if self.mode!='test':\n",
        "            yi = torch.tensor(self.y[idx]).long()\n",
        "            return xi, yi\n",
        "        else:\n",
        "            return xi"
      ],
      "execution_count": 15,
      "outputs": []
    },
    {
      "cell_type": "code",
      "metadata": {
        "id": "Yj27CeDXHdIF"
      },
      "source": [
        "X = data.drop('Attrition', 1).to_numpy()\n",
        "y = data['Attrition'].to_numpy()"
      ],
      "execution_count": 16,
      "outputs": []
    },
    {
      "cell_type": "code",
      "metadata": {
        "id": "EKEUkF12HdIF"
      },
      "source": [
        "from sklearn.model_selection import train_test_split"
      ],
      "execution_count": 17,
      "outputs": []
    },
    {
      "cell_type": "code",
      "metadata": {
        "id": "Xo8K1_wfHdIF"
      },
      "source": [
        "X_train, X_test, y_train, y_test = train_test_split(X, y, test_size=0.2, random_state=42)"
      ],
      "execution_count": 18,
      "outputs": []
    },
    {
      "cell_type": "code",
      "metadata": {
        "id": "GRtPLqhUHdIF"
      },
      "source": [
        "from torchvision.transforms import ToTensor"
      ],
      "execution_count": 19,
      "outputs": []
    },
    {
      "cell_type": "code",
      "metadata": {
        "id": "HFoqlMEFHdIG"
      },
      "source": [
        "trainset = DataSet(X_train, y_train, mode='train')\n",
        "valset = DataSet(X_test, y_test, mode='val')\n",
        "\n",
        "traingen = DataLoader(trainset, batch_size=32, shuffle=False)\n",
        "valgen = DataLoader(valset, batch_size=32, shuffle=False)"
      ],
      "execution_count": 20,
      "outputs": []
    },
    {
      "cell_type": "code",
      "metadata": {
        "id": "Z2Bjm94EHdIG"
      },
      "source": [
        "from collections import OrderedDict\n",
        "\n",
        "class SimpleNN_v1(nn.Module):\n",
        "    def __init__(self,):\n",
        "        super().__init__()\n",
        "        self.block0=nn.Sequential(\n",
        "                nn.Linear(41, 100),\n",
        "                nn.ReLU())\n",
        "        self.dropout=nn.Dropout(0.2)\n",
        "        self.block1=nn.Sequential(\n",
        "                nn.Linear(100, 50),\n",
        "                nn.BatchNorm1d(50),\n",
        "                nn.ReLU())\n",
        "        self.fc=nn.Linear(50, 1)\n",
        "        \n",
        "    def forward(self, x):\n",
        "        x = self.block0(x)\n",
        "        x = self.dropout(x)\n",
        "        x = self.block1(x)\n",
        "        return self.fc(x)"
      ],
      "execution_count": 21,
      "outputs": []
    },
    {
      "cell_type": "code",
      "metadata": {
        "id": "9gdLTyfRJ3WR"
      },
      "source": [
        "class SimpleNN_v2(nn.Module):\r\n",
        "    def __init__(self,):\r\n",
        "        super().__init__()\r\n",
        "        self.block0=nn.Sequential(\r\n",
        "                nn.Linear(41, 100),\r\n",
        "                nn.ReLU())\r\n",
        "        self.dropout=nn.Dropout(0.2)\r\n",
        "        self.block1=nn.Sequential(\r\n",
        "                nn.Linear(100, 50),\r\n",
        "                nn.BatchNorm1d(50),\r\n",
        "                nn.ReLU())\r\n",
        "        self.block2=nn.Sequential(\r\n",
        "                nn.Linear(50, 50),\r\n",
        "                nn.BatchNorm1d(50),\r\n",
        "                nn.ReLU())\r\n",
        "        self.fc=nn.Linear(50, 1)\r\n",
        "        \r\n",
        "    def forward(self, x):\r\n",
        "        x = self.block0(x)\r\n",
        "        x = self.dropout(x)\r\n",
        "        x = self.block1(x)\r\n",
        "        x = self.block2(x)\r\n",
        "        return self.fc(x)"
      ],
      "execution_count": 30,
      "outputs": []
    },
    {
      "cell_type": "code",
      "metadata": {
        "id": "CSEWna-5HdIG"
      },
      "source": [
        "def train(model, criterion, optimizer, scheduler, metric, tgen, vgen, epochs=10, device='cuda:0'):\n",
        "    cache={'loss':[], 'acc': [], 'v_loss':[], 'v_acc':[], 'epoch':[]}\n",
        "    for epoch in range(1, epochs+1):\n",
        "        log = f'::: Epoch {epoch}/{epochs} :::'\n",
        "        model.train()\n",
        "        r_loss, r_acc = 0, 0\n",
        "        for x, y in tgen:\n",
        "            x, y = x.to(device), y.to(device)\n",
        "            y_ = model(x)     \n",
        "            loss = criterion(y_.view(-1), y.float())\n",
        "            acc = metric(y_.view(-1), y)\n",
        "            loss.backward()\n",
        "            \n",
        "            # Weights update\n",
        "            optimizer.step()\n",
        "            optimizer.zero_grad()\n",
        "            # Weights update\n",
        "            r_loss += loss.item()\n",
        "            r_acc += acc.item()\n",
        "\n",
        "        e_loss, e_acc = r_loss/len(tgen), r_acc/len(tgen)\n",
        "        cache['loss'].append(e_loss)\n",
        "        cache['acc'].append(e_acc)\n",
        "        cache['epoch'].append(epoch)\n",
        "        template = f' Train ::: Loss: {e_loss:.4f} ::: F1 score: {e_acc:.4f}'\n",
        "        print(log + template)\n",
        "        model.eval()\n",
        "        r_loss, r_acc = 0, 0\n",
        "        for x, y in vgen:\n",
        "            x, y = x.to(device), y.to(device)\n",
        "            y_ = model(x)\n",
        "            loss, acc = criterion(y_.view(-1), y.float()), metric(y_.view(-1), y)\n",
        "\n",
        "            r_loss += loss.item()\n",
        "            r_acc += acc.item()\n",
        "\n",
        "        e_loss, e_acc = r_loss/len(vgen), r_acc/len(vgen)\n",
        "        cache['v_loss'].append(e_loss)\n",
        "        cache['v_acc'].append(e_acc)\n",
        "        template = f' Validation ::: Loss: {e_loss:.4f} ::: F1 score: {e_acc:.4f}'\n",
        "        print(log + template)\n",
        "    return cache, model"
      ],
      "execution_count": 22,
      "outputs": []
    },
    {
      "cell_type": "code",
      "metadata": {
        "id": "h_ekyHZjHdIG"
      },
      "source": [
        "def f1_score(pred, target, epsilon=1e-8):\n",
        "    from sklearn.metrics import f1_score\n",
        "    pred = (pred > 0).long().cpu().numpy()\n",
        "    target = target.cpu().numpy()\n",
        "    return f1_score(pred, target)"
      ],
      "execution_count": 23,
      "outputs": []
    },
    {
      "cell_type": "code",
      "metadata": {
        "id": "wjXRZQeUHdIH"
      },
      "source": [
        "set_seed()\n",
        "model = SimpleNN_v1().to(device)\n",
        "criterion = nn.BCEWithLogitsLoss().to(device)\n",
        "optimizer = torch.optim.Adam(model.parameters(), lr=0.001)\n",
        "scheduler=torch.optim.lr_scheduler.StepLR(optimizer, step_size=150, gamma=0.9)"
      ],
      "execution_count": 24,
      "outputs": []
    },
    {
      "cell_type": "code",
      "metadata": {
        "scrolled": true,
        "colab": {
          "base_uri": "https://localhost:8080/"
        },
        "id": "Jc-VMuHCHdIH",
        "outputId": "709798c1-c9f2-4221-97d4-12a4d742c567"
      },
      "source": [
        "%%time\r\n",
        "history, model = train(model, criterion, optimizer, scheduler, f1_score, traingen, valgen, epochs=30)"
      ],
      "execution_count": 25,
      "outputs": [
        {
          "output_type": "stream",
          "text": [
            "::: Epoch 1/30 ::: Train ::: Loss: 0.4782 ::: F1 score: 0.1514\n",
            "::: Epoch 1/30 ::: Validation ::: Loss: 0.4231 ::: F1 score: 0.0854\n",
            "::: Epoch 2/30 ::: Train ::: Loss: 0.3771 ::: F1 score: 0.1133\n",
            "::: Epoch 2/30 ::: Validation ::: Loss: 0.3834 ::: F1 score: 0.2210\n",
            "::: Epoch 3/30 ::: Train ::: Loss: 0.3463 ::: F1 score: 0.2508\n",
            "::: Epoch 3/30 ::: Validation ::: Loss: 0.3620 ::: F1 score: 0.3475\n",
            "::: Epoch 4/30 ::: Train ::: Loss: 0.3219 ::: F1 score: 0.3655\n",
            "::: Epoch 4/30 ::: Validation ::: Loss: 0.3303 ::: F1 score: 0.4276\n",
            "::: Epoch 5/30 ::: Train ::: Loss: 0.2889 ::: F1 score: 0.4672\n",
            "::: Epoch 5/30 ::: Validation ::: Loss: 0.3052 ::: F1 score: 0.4601\n",
            "::: Epoch 6/30 ::: Train ::: Loss: 0.2648 ::: F1 score: 0.5249\n",
            "::: Epoch 6/30 ::: Validation ::: Loss: 0.2750 ::: F1 score: 0.5445\n",
            "::: Epoch 7/30 ::: Train ::: Loss: 0.2379 ::: F1 score: 0.6443\n",
            "::: Epoch 7/30 ::: Validation ::: Loss: 0.2631 ::: F1 score: 0.6030\n",
            "::: Epoch 8/30 ::: Train ::: Loss: 0.2101 ::: F1 score: 0.6975\n",
            "::: Epoch 8/30 ::: Validation ::: Loss: 0.2157 ::: F1 score: 0.6648\n",
            "::: Epoch 9/30 ::: Train ::: Loss: 0.1921 ::: F1 score: 0.7186\n",
            "::: Epoch 9/30 ::: Validation ::: Loss: 0.2039 ::: F1 score: 0.6905\n",
            "::: Epoch 10/30 ::: Train ::: Loss: 0.1741 ::: F1 score: 0.7279\n",
            "::: Epoch 10/30 ::: Validation ::: Loss: 0.1818 ::: F1 score: 0.7728\n",
            "::: Epoch 11/30 ::: Train ::: Loss: 0.1567 ::: F1 score: 0.7974\n",
            "::: Epoch 11/30 ::: Validation ::: Loss: 0.1735 ::: F1 score: 0.7592\n",
            "::: Epoch 12/30 ::: Train ::: Loss: 0.1391 ::: F1 score: 0.8192\n",
            "::: Epoch 12/30 ::: Validation ::: Loss: 0.1510 ::: F1 score: 0.8262\n",
            "::: Epoch 13/30 ::: Train ::: Loss: 0.1266 ::: F1 score: 0.8488\n",
            "::: Epoch 13/30 ::: Validation ::: Loss: 0.1238 ::: F1 score: 0.8614\n",
            "::: Epoch 14/30 ::: Train ::: Loss: 0.1163 ::: F1 score: 0.8550\n",
            "::: Epoch 14/30 ::: Validation ::: Loss: 0.1227 ::: F1 score: 0.8674\n",
            "::: Epoch 15/30 ::: Train ::: Loss: 0.1068 ::: F1 score: 0.8727\n",
            "::: Epoch 15/30 ::: Validation ::: Loss: 0.1101 ::: F1 score: 0.8935\n",
            "::: Epoch 16/30 ::: Train ::: Loss: 0.1011 ::: F1 score: 0.8710\n",
            "::: Epoch 16/30 ::: Validation ::: Loss: 0.0989 ::: F1 score: 0.8951\n",
            "::: Epoch 17/30 ::: Train ::: Loss: 0.0925 ::: F1 score: 0.8934\n",
            "::: Epoch 17/30 ::: Validation ::: Loss: 0.0899 ::: F1 score: 0.9048\n",
            "::: Epoch 18/30 ::: Train ::: Loss: 0.0831 ::: F1 score: 0.9053\n",
            "::: Epoch 18/30 ::: Validation ::: Loss: 0.0804 ::: F1 score: 0.8964\n",
            "::: Epoch 19/30 ::: Train ::: Loss: 0.0810 ::: F1 score: 0.9007\n",
            "::: Epoch 19/30 ::: Validation ::: Loss: 0.0825 ::: F1 score: 0.9253\n",
            "::: Epoch 20/30 ::: Train ::: Loss: 0.0820 ::: F1 score: 0.8899\n",
            "::: Epoch 20/30 ::: Validation ::: Loss: 0.0803 ::: F1 score: 0.9036\n",
            "::: Epoch 21/30 ::: Train ::: Loss: 0.0676 ::: F1 score: 0.9280\n",
            "::: Epoch 21/30 ::: Validation ::: Loss: 0.0769 ::: F1 score: 0.8729\n",
            "::: Epoch 22/30 ::: Train ::: Loss: 0.0740 ::: F1 score: 0.9157\n",
            "::: Epoch 22/30 ::: Validation ::: Loss: 0.0649 ::: F1 score: 0.9295\n",
            "::: Epoch 23/30 ::: Train ::: Loss: 0.0720 ::: F1 score: 0.9155\n",
            "::: Epoch 23/30 ::: Validation ::: Loss: 0.0689 ::: F1 score: 0.9400\n",
            "::: Epoch 24/30 ::: Train ::: Loss: 0.0630 ::: F1 score: 0.9284\n",
            "::: Epoch 24/30 ::: Validation ::: Loss: 0.0636 ::: F1 score: 0.9380\n",
            "::: Epoch 25/30 ::: Train ::: Loss: 0.0561 ::: F1 score: 0.9369\n",
            "::: Epoch 25/30 ::: Validation ::: Loss: 0.0661 ::: F1 score: 0.9271\n",
            "::: Epoch 26/30 ::: Train ::: Loss: 0.0666 ::: F1 score: 0.9198\n",
            "::: Epoch 26/30 ::: Validation ::: Loss: 0.0684 ::: F1 score: 0.9339\n",
            "::: Epoch 27/30 ::: Train ::: Loss: 0.0496 ::: F1 score: 0.9524\n",
            "::: Epoch 27/30 ::: Validation ::: Loss: 0.0506 ::: F1 score: 0.9639\n",
            "::: Epoch 28/30 ::: Train ::: Loss: 0.0451 ::: F1 score: 0.9489\n",
            "::: Epoch 28/30 ::: Validation ::: Loss: 0.0458 ::: F1 score: 0.9667\n",
            "::: Epoch 29/30 ::: Train ::: Loss: 0.0577 ::: F1 score: 0.9276\n",
            "::: Epoch 29/30 ::: Validation ::: Loss: 0.0462 ::: F1 score: 0.9656\n",
            "::: Epoch 30/30 ::: Train ::: Loss: 0.0435 ::: F1 score: 0.9584\n",
            "::: Epoch 30/30 ::: Validation ::: Loss: 0.0533 ::: F1 score: 0.9498\n",
            "CPU times: user 15.8 s, sys: 196 ms, total: 16 s\n",
            "Wall time: 16.3 s\n"
          ],
          "name": "stdout"
        }
      ]
    },
    {
      "cell_type": "code",
      "metadata": {
        "id": "gQ3xIJX5HdIH"
      },
      "source": [
        "#torch.save(model, 'fcnn_v1.h5')"
      ],
      "execution_count": 37,
      "outputs": []
    },
    {
      "cell_type": "code",
      "metadata": {
        "id": "fGnfRPfBHdIH"
      },
      "source": [
        "def predict(model, testgen, device='cuda:0'):\n",
        "    model.eval()\n",
        "    pred = []\n",
        "    true = []\n",
        "    for x, y in testgen:\n",
        "        x, y = x.to(device), y.to(device)\n",
        "        y_ = model(x)\n",
        "        true += list(torch.flatten(y.data).cpu().numpy())\n",
        "        pred += list(torch.flatten(y_.data).cpu().numpy())\n",
        "    return torch.tensor(pred), torch.tensor(true)"
      ],
      "execution_count": 26,
      "outputs": []
    },
    {
      "cell_type": "code",
      "metadata": {
        "colab": {
          "base_uri": "https://localhost:8080/"
        },
        "id": "ROcvw-H3HdIH",
        "outputId": "d4687743-d265-4131-916a-4307af1354eb"
      },
      "source": [
        "%%time\r\n",
        "pred, true = predict(model, valgen)"
      ],
      "execution_count": 27,
      "outputs": [
        {
          "output_type": "stream",
          "text": [
            "CPU times: user 36.3 ms, sys: 1.02 ms, total: 37.3 ms\n",
            "Wall time: 41.8 ms\n"
          ],
          "name": "stdout"
        }
      ]
    },
    {
      "cell_type": "code",
      "metadata": {
        "colab": {
          "base_uri": "https://localhost:8080/"
        },
        "id": "_klfXNWfHdII",
        "outputId": "014deeba-76c2-4ca4-c773-791ecfd73575"
      },
      "source": [
        "f1_score(pred, true)"
      ],
      "execution_count": 28,
      "outputs": [
        {
          "output_type": "execute_result",
          "data": {
            "text/plain": [
              "0.9608540925266905"
            ]
          },
          "metadata": {
            "tags": []
          },
          "execution_count": 28
        }
      ]
    },
    {
      "cell_type": "code",
      "metadata": {
        "colab": {
          "base_uri": "https://localhost:8080/"
        },
        "id": "5KgvjDJcHdII",
        "outputId": "69b4c396-8310-4c22-fc67-cc257d7c4d54"
      },
      "source": [
        "sum(p.numel() for p in model.parameters())"
      ],
      "execution_count": 29,
      "outputs": [
        {
          "output_type": "execute_result",
          "data": {
            "text/plain": [
              "9401"
            ]
          },
          "metadata": {
            "tags": []
          },
          "execution_count": 29
        }
      ]
    },
    {
      "cell_type": "code",
      "metadata": {
        "id": "bUKWSiQeJk4M"
      },
      "source": [
        ""
      ],
      "execution_count": null,
      "outputs": []
    },
    {
      "cell_type": "code",
      "metadata": {
        "id": "ACtVhhGTKKaI"
      },
      "source": [
        "set_seed()\r\n",
        "model_v2 = SimpleNN_v2().to(device)\r\n",
        "criterion = nn.BCEWithLogitsLoss().to(device)\r\n",
        "optimizer = torch.optim.Adam(model_v2.parameters(), lr=0.001)\r\n",
        "scheduler=torch.optim.lr_scheduler.StepLR(optimizer, step_size=150, gamma=0.9)"
      ],
      "execution_count": 31,
      "outputs": []
    },
    {
      "cell_type": "code",
      "metadata": {
        "colab": {
          "base_uri": "https://localhost:8080/"
        },
        "id": "rHOSfEwaKVaH",
        "outputId": "6d48f4a4-c2a2-4635-9b46-d04c0d139b97"
      },
      "source": [
        "%%time\r\n",
        "history_v2, model_v2 = train(model_v2, criterion, optimizer, scheduler, f1_score, traingen, valgen, epochs=30)"
      ],
      "execution_count": 32,
      "outputs": [
        {
          "output_type": "stream",
          "text": [
            "::: Epoch 1/30 ::: Train ::: Loss: 0.4517 ::: F1 score: 0.0882\n",
            "::: Epoch 1/30 ::: Validation ::: Loss: 0.3947 ::: F1 score: 0.1933\n",
            "::: Epoch 2/30 ::: Train ::: Loss: 0.3730 ::: F1 score: 0.2273\n",
            "::: Epoch 2/30 ::: Validation ::: Loss: 0.3644 ::: F1 score: 0.3322\n",
            "::: Epoch 3/30 ::: Train ::: Loss: 0.3410 ::: F1 score: 0.3644\n",
            "::: Epoch 3/30 ::: Validation ::: Loss: 0.3359 ::: F1 score: 0.4166\n",
            "::: Epoch 4/30 ::: Train ::: Loss: 0.3067 ::: F1 score: 0.4669\n",
            "::: Epoch 4/30 ::: Validation ::: Loss: 0.3059 ::: F1 score: 0.4641\n",
            "::: Epoch 5/30 ::: Train ::: Loss: 0.2730 ::: F1 score: 0.5559\n",
            "::: Epoch 5/30 ::: Validation ::: Loss: 0.2671 ::: F1 score: 0.5023\n",
            "::: Epoch 6/30 ::: Train ::: Loss: 0.2408 ::: F1 score: 0.6406\n",
            "::: Epoch 6/30 ::: Validation ::: Loss: 0.2338 ::: F1 score: 0.5815\n",
            "::: Epoch 7/30 ::: Train ::: Loss: 0.2093 ::: F1 score: 0.6984\n",
            "::: Epoch 7/30 ::: Validation ::: Loss: 0.2075 ::: F1 score: 0.6713\n",
            "::: Epoch 8/30 ::: Train ::: Loss: 0.1821 ::: F1 score: 0.7425\n",
            "::: Epoch 8/30 ::: Validation ::: Loss: 0.1769 ::: F1 score: 0.7074\n",
            "::: Epoch 9/30 ::: Train ::: Loss: 0.1770 ::: F1 score: 0.7517\n",
            "::: Epoch 9/30 ::: Validation ::: Loss: 0.1585 ::: F1 score: 0.7262\n",
            "::: Epoch 10/30 ::: Train ::: Loss: 0.1526 ::: F1 score: 0.7980\n",
            "::: Epoch 10/30 ::: Validation ::: Loss: 0.1278 ::: F1 score: 0.8261\n",
            "::: Epoch 11/30 ::: Train ::: Loss: 0.1242 ::: F1 score: 0.8315\n",
            "::: Epoch 11/30 ::: Validation ::: Loss: 0.1213 ::: F1 score: 0.8082\n",
            "::: Epoch 12/30 ::: Train ::: Loss: 0.1181 ::: F1 score: 0.8397\n",
            "::: Epoch 12/30 ::: Validation ::: Loss: 0.0972 ::: F1 score: 0.8248\n",
            "::: Epoch 13/30 ::: Train ::: Loss: 0.1178 ::: F1 score: 0.8429\n",
            "::: Epoch 13/30 ::: Validation ::: Loss: 0.0850 ::: F1 score: 0.8828\n",
            "::: Epoch 14/30 ::: Train ::: Loss: 0.1034 ::: F1 score: 0.8678\n",
            "::: Epoch 14/30 ::: Validation ::: Loss: 0.0994 ::: F1 score: 0.8529\n",
            "::: Epoch 15/30 ::: Train ::: Loss: 0.0943 ::: F1 score: 0.8905\n",
            "::: Epoch 15/30 ::: Validation ::: Loss: 0.0674 ::: F1 score: 0.8862\n",
            "::: Epoch 16/30 ::: Train ::: Loss: 0.0808 ::: F1 score: 0.8872\n",
            "::: Epoch 16/30 ::: Validation ::: Loss: 0.0607 ::: F1 score: 0.9507\n",
            "::: Epoch 17/30 ::: Train ::: Loss: 0.0820 ::: F1 score: 0.9019\n",
            "::: Epoch 17/30 ::: Validation ::: Loss: 0.0562 ::: F1 score: 0.9412\n",
            "::: Epoch 18/30 ::: Train ::: Loss: 0.0810 ::: F1 score: 0.8933\n",
            "::: Epoch 18/30 ::: Validation ::: Loss: 0.0517 ::: F1 score: 0.9300\n",
            "::: Epoch 19/30 ::: Train ::: Loss: 0.0700 ::: F1 score: 0.9147\n",
            "::: Epoch 19/30 ::: Validation ::: Loss: 0.0627 ::: F1 score: 0.9032\n",
            "::: Epoch 20/30 ::: Train ::: Loss: 0.0827 ::: F1 score: 0.8950\n",
            "::: Epoch 20/30 ::: Validation ::: Loss: 0.0583 ::: F1 score: 0.9378\n",
            "::: Epoch 21/30 ::: Train ::: Loss: 0.0677 ::: F1 score: 0.9120\n",
            "::: Epoch 21/30 ::: Validation ::: Loss: 0.0455 ::: F1 score: 0.9590\n",
            "::: Epoch 22/30 ::: Train ::: Loss: 0.0677 ::: F1 score: 0.9176\n",
            "::: Epoch 22/30 ::: Validation ::: Loss: 0.0358 ::: F1 score: 0.9621\n",
            "::: Epoch 23/30 ::: Train ::: Loss: 0.0675 ::: F1 score: 0.9104\n",
            "::: Epoch 23/30 ::: Validation ::: Loss: 0.0366 ::: F1 score: 0.9695\n",
            "::: Epoch 24/30 ::: Train ::: Loss: 0.0506 ::: F1 score: 0.9420\n",
            "::: Epoch 24/30 ::: Validation ::: Loss: 0.0289 ::: F1 score: 0.9552\n",
            "::: Epoch 25/30 ::: Train ::: Loss: 0.0560 ::: F1 score: 0.9184\n",
            "::: Epoch 25/30 ::: Validation ::: Loss: 0.0373 ::: F1 score: 0.9288\n",
            "::: Epoch 26/30 ::: Train ::: Loss: 0.0567 ::: F1 score: 0.9158\n",
            "::: Epoch 26/30 ::: Validation ::: Loss: 0.0404 ::: F1 score: 0.9560\n",
            "::: Epoch 27/30 ::: Train ::: Loss: 0.0456 ::: F1 score: 0.9367\n",
            "::: Epoch 27/30 ::: Validation ::: Loss: 0.0346 ::: F1 score: 0.9683\n",
            "::: Epoch 28/30 ::: Train ::: Loss: 0.0514 ::: F1 score: 0.9335\n",
            "::: Epoch 28/30 ::: Validation ::: Loss: 0.0412 ::: F1 score: 0.9576\n",
            "::: Epoch 29/30 ::: Train ::: Loss: 0.0540 ::: F1 score: 0.9480\n",
            "::: Epoch 29/30 ::: Validation ::: Loss: 0.0323 ::: F1 score: 0.9537\n",
            "::: Epoch 30/30 ::: Train ::: Loss: 0.0414 ::: F1 score: 0.9505\n",
            "::: Epoch 30/30 ::: Validation ::: Loss: 0.0232 ::: F1 score: 0.9782\n",
            "CPU times: user 18.9 s, sys: 201 ms, total: 19.1 s\n",
            "Wall time: 19.3 s\n"
          ],
          "name": "stdout"
        }
      ]
    },
    {
      "cell_type": "code",
      "metadata": {
        "colab": {
          "base_uri": "https://localhost:8080/"
        },
        "id": "s9vy5d7vKbKy",
        "outputId": "849efdb6-dbf4-47aa-ba99-ba4f79c02434"
      },
      "source": [
        "%%time\r\n",
        "pred, true = predict(model_v2, valgen)"
      ],
      "execution_count": 33,
      "outputs": [
        {
          "output_type": "stream",
          "text": [
            "CPU times: user 42.5 ms, sys: 917 µs, total: 43.4 ms\n",
            "Wall time: 46 ms\n"
          ],
          "name": "stdout"
        }
      ]
    },
    {
      "cell_type": "code",
      "metadata": {
        "colab": {
          "base_uri": "https://localhost:8080/"
        },
        "id": "-Iazfz1pKlsO",
        "outputId": "2b9ea95b-55fe-4121-d051-003c562353da"
      },
      "source": [
        "f1_score(pred, true)"
      ],
      "execution_count": 34,
      "outputs": [
        {
          "output_type": "execute_result",
          "data": {
            "text/plain": [
              "0.9820788530465949"
            ]
          },
          "metadata": {
            "tags": []
          },
          "execution_count": 34
        }
      ]
    },
    {
      "cell_type": "code",
      "metadata": {
        "id": "glq7vQ0HKubI"
      },
      "source": [
        "#torch.save(model_v2, 'fcnn_v2.h5')"
      ],
      "execution_count": 35,
      "outputs": []
    },
    {
      "cell_type": "code",
      "metadata": {
        "colab": {
          "base_uri": "https://localhost:8080/"
        },
        "id": "FBU_gjU3KotG",
        "outputId": "c6b7266c-961b-4d19-b72c-c44388c67309"
      },
      "source": [
        "sum(p.numel() for p in model_v2.parameters())"
      ],
      "execution_count": 36,
      "outputs": [
        {
          "output_type": "execute_result",
          "data": {
            "text/plain": [
              "12051"
            ]
          },
          "metadata": {
            "tags": []
          },
          "execution_count": 36
        }
      ]
    },
    {
      "cell_type": "code",
      "metadata": {
        "id": "kggLoNJQK1Nf"
      },
      "source": [
        ""
      ],
      "execution_count": null,
      "outputs": []
    },
    {
      "cell_type": "markdown",
      "metadata": {
        "id": "nPxKzwdoK5z7"
      },
      "source": [
        "| model | number of parameters | epochs | lr | f1_score |\r\n",
        "| -------|---------|-----------|-------|-------------|\r\n",
        "| `SimpleNN_v1` | 9401 | 30 | 0.001 | 0.961 |\r\n",
        "| `SimpleNN_v2` | 12051 | 30 | 0.001 | 0.982 |\r\n"
      ]
    },
    {
      "cell_type": "markdown",
      "metadata": {
        "id": "jBxhQ-bjMorz"
      },
      "source": [
        "Computer parameters\r\n",
        "\r\n",
        "| PU | name | number of cores |\r\n",
        "|----|------|--------|\r\n",
        "| CPU | Intel(R) Xeon(R) CPU @ 2.30GHz | 2 |\r\n",
        "| GPU | Tesla T4 | 2560 (15079MiB) |"
      ]
    },
    {
      "cell_type": "code",
      "metadata": {
        "id": "KNspkgpzMRkg"
      },
      "source": [
        ""
      ],
      "execution_count": null,
      "outputs": []
    }
  ]
}