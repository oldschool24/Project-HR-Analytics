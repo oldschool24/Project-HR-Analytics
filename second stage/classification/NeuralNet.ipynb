{
 "cells": [
  {
   "cell_type": "markdown",
   "metadata": {},
   "source": [
    "# Import libraries"
   ]
  },
  {
   "cell_type": "code",
   "execution_count": 1,
   "metadata": {
    "colab": {
     "base_uri": "https://localhost:8080/"
    },
    "id": "YV4xBX_JHdH9",
    "outputId": "e087c45b-6bd4-485a-c4b2-104e0d892a19"
   },
   "outputs": [
    {
     "name": "stdout",
     "output_type": "stream",
     "text": [
      "cuda:0\n"
     ]
    }
   ],
   "source": [
    "import time\n",
    "import numpy as np\n",
    "import pandas as pd\n",
    "import matplotlib.pyplot as plt\n",
    "from tqdm.notebook import tqdm\n",
    "\n",
    "\n",
    "import random\n",
    "import torch\n",
    "from torch import nn\n",
    "\n",
    "def set_seed(seed=42):\n",
    "    random.seed(seed)\n",
    "    np.random.seed(seed)\n",
    "    torch.manual_seed(seed)\n",
    "    torch.cuda.manual_seed(seed)\n",
    "\n",
    "device = torch.device('cuda:0' if torch.cuda.is_available() else 'cpu')\n",
    "print(device)"
   ]
  },
  {
   "cell_type": "markdown",
   "metadata": {},
   "source": [
    "## Reading preprocessed dataset"
   ]
  },
  {
   "cell_type": "code",
   "execution_count": 2,
   "metadata": {
    "id": "7xm9YgM7HdID"
   },
   "outputs": [],
   "source": [
    "data = pd.read_csv('preprocessed_data.csv')"
   ]
  },
  {
   "cell_type": "code",
   "execution_count": 3,
   "metadata": {
    "colab": {
     "base_uri": "https://localhost:8080/",
     "height": 232
    },
    "id": "1wGDXk4fHdIE",
    "outputId": "b994e3b8-a937-4dab-9091-088561801da7"
   },
   "outputs": [
    {
     "data": {
      "text/html": [
       "<div>\n",
       "<style scoped>\n",
       "    .dataframe tbody tr th:only-of-type {\n",
       "        vertical-align: middle;\n",
       "    }\n",
       "\n",
       "    .dataframe tbody tr th {\n",
       "        vertical-align: top;\n",
       "    }\n",
       "\n",
       "    .dataframe thead th {\n",
       "        text-align: right;\n",
       "    }\n",
       "</style>\n",
       "<table border=\"1\" class=\"dataframe\">\n",
       "  <thead>\n",
       "    <tr style=\"text-align: right;\">\n",
       "      <th></th>\n",
       "      <th>Age</th>\n",
       "      <th>BusinessTravel</th>\n",
       "      <th>DistanceFromHome</th>\n",
       "      <th>Education</th>\n",
       "      <th>Gender</th>\n",
       "      <th>JobLevel</th>\n",
       "      <th>MonthlyIncome</th>\n",
       "      <th>NumCompaniesWorked</th>\n",
       "      <th>PercentSalaryHike</th>\n",
       "      <th>StockOptionLevel</th>\n",
       "      <th>...</th>\n",
       "      <th>JobRole_Manager</th>\n",
       "      <th>JobRole_Manufacturing Director</th>\n",
       "      <th>JobRole_Research Director</th>\n",
       "      <th>JobRole_Research Scientist</th>\n",
       "      <th>JobRole_Sales Executive</th>\n",
       "      <th>JobRole_Sales Representative</th>\n",
       "      <th>MaritalStatus_Divorced</th>\n",
       "      <th>MaritalStatus_Married</th>\n",
       "      <th>MaritalStatus_Single</th>\n",
       "      <th>Attrition</th>\n",
       "    </tr>\n",
       "  </thead>\n",
       "  <tbody>\n",
       "    <tr>\n",
       "      <th>0</th>\n",
       "      <td>0.785714</td>\n",
       "      <td>0.5</td>\n",
       "      <td>0.178571</td>\n",
       "      <td>0.25</td>\n",
       "      <td>0.0</td>\n",
       "      <td>0.00</td>\n",
       "      <td>0.637546</td>\n",
       "      <td>0.111111</td>\n",
       "      <td>0.000000</td>\n",
       "      <td>0.000000</td>\n",
       "      <td>...</td>\n",
       "      <td>0.0</td>\n",
       "      <td>0.0</td>\n",
       "      <td>0.0</td>\n",
       "      <td>0.0</td>\n",
       "      <td>0.0</td>\n",
       "      <td>0.0</td>\n",
       "      <td>0.0</td>\n",
       "      <td>1.0</td>\n",
       "      <td>0.0</td>\n",
       "      <td>0</td>\n",
       "    </tr>\n",
       "    <tr>\n",
       "      <th>1</th>\n",
       "      <td>0.309524</td>\n",
       "      <td>1.0</td>\n",
       "      <td>0.321429</td>\n",
       "      <td>0.00</td>\n",
       "      <td>0.0</td>\n",
       "      <td>0.00</td>\n",
       "      <td>0.167457</td>\n",
       "      <td>0.000000</td>\n",
       "      <td>0.857143</td>\n",
       "      <td>0.333333</td>\n",
       "      <td>...</td>\n",
       "      <td>0.0</td>\n",
       "      <td>0.0</td>\n",
       "      <td>0.0</td>\n",
       "      <td>1.0</td>\n",
       "      <td>0.0</td>\n",
       "      <td>0.0</td>\n",
       "      <td>0.0</td>\n",
       "      <td>0.0</td>\n",
       "      <td>1.0</td>\n",
       "      <td>1</td>\n",
       "    </tr>\n",
       "    <tr>\n",
       "      <th>2</th>\n",
       "      <td>0.333333</td>\n",
       "      <td>1.0</td>\n",
       "      <td>0.571429</td>\n",
       "      <td>0.75</td>\n",
       "      <td>1.0</td>\n",
       "      <td>0.75</td>\n",
       "      <td>0.964666</td>\n",
       "      <td>0.111111</td>\n",
       "      <td>0.285714</td>\n",
       "      <td>1.000000</td>\n",
       "      <td>...</td>\n",
       "      <td>0.0</td>\n",
       "      <td>0.0</td>\n",
       "      <td>0.0</td>\n",
       "      <td>0.0</td>\n",
       "      <td>1.0</td>\n",
       "      <td>0.0</td>\n",
       "      <td>0.0</td>\n",
       "      <td>1.0</td>\n",
       "      <td>0.0</td>\n",
       "      <td>0</td>\n",
       "    </tr>\n",
       "    <tr>\n",
       "      <th>3</th>\n",
       "      <td>0.476190</td>\n",
       "      <td>0.0</td>\n",
       "      <td>0.035714</td>\n",
       "      <td>1.00</td>\n",
       "      <td>1.0</td>\n",
       "      <td>0.50</td>\n",
       "      <td>0.385045</td>\n",
       "      <td>0.333333</td>\n",
       "      <td>0.000000</td>\n",
       "      <td>1.000000</td>\n",
       "      <td>...</td>\n",
       "      <td>0.0</td>\n",
       "      <td>0.0</td>\n",
       "      <td>0.0</td>\n",
       "      <td>0.0</td>\n",
       "      <td>0.0</td>\n",
       "      <td>0.0</td>\n",
       "      <td>0.0</td>\n",
       "      <td>1.0</td>\n",
       "      <td>0.0</td>\n",
       "      <td>0</td>\n",
       "    </tr>\n",
       "    <tr>\n",
       "      <th>4</th>\n",
       "      <td>0.333333</td>\n",
       "      <td>0.5</td>\n",
       "      <td>0.321429</td>\n",
       "      <td>0.00</td>\n",
       "      <td>1.0</td>\n",
       "      <td>0.00</td>\n",
       "      <td>0.070195</td>\n",
       "      <td>0.444444</td>\n",
       "      <td>0.071429</td>\n",
       "      <td>0.666667</td>\n",
       "      <td>...</td>\n",
       "      <td>0.0</td>\n",
       "      <td>0.0</td>\n",
       "      <td>0.0</td>\n",
       "      <td>0.0</td>\n",
       "      <td>1.0</td>\n",
       "      <td>0.0</td>\n",
       "      <td>0.0</td>\n",
       "      <td>0.0</td>\n",
       "      <td>1.0</td>\n",
       "      <td>0</td>\n",
       "    </tr>\n",
       "  </tbody>\n",
       "</table>\n",
       "<p>5 rows × 42 columns</p>\n",
       "</div>"
      ],
      "text/plain": [
       "        Age  BusinessTravel  DistanceFromHome  Education  Gender  JobLevel  \\\n",
       "0  0.785714             0.5          0.178571       0.25     0.0      0.00   \n",
       "1  0.309524             1.0          0.321429       0.00     0.0      0.00   \n",
       "2  0.333333             1.0          0.571429       0.75     1.0      0.75   \n",
       "3  0.476190             0.0          0.035714       1.00     1.0      0.50   \n",
       "4  0.333333             0.5          0.321429       0.00     1.0      0.00   \n",
       "\n",
       "   MonthlyIncome  NumCompaniesWorked  PercentSalaryHike  StockOptionLevel  \\\n",
       "0       0.637546            0.111111           0.000000          0.000000   \n",
       "1       0.167457            0.000000           0.857143          0.333333   \n",
       "2       0.964666            0.111111           0.285714          1.000000   \n",
       "3       0.385045            0.333333           0.000000          1.000000   \n",
       "4       0.070195            0.444444           0.071429          0.666667   \n",
       "\n",
       "   ...  JobRole_Manager  JobRole_Manufacturing Director  \\\n",
       "0  ...              0.0                             0.0   \n",
       "1  ...              0.0                             0.0   \n",
       "2  ...              0.0                             0.0   \n",
       "3  ...              0.0                             0.0   \n",
       "4  ...              0.0                             0.0   \n",
       "\n",
       "   JobRole_Research Director  JobRole_Research Scientist  \\\n",
       "0                        0.0                         0.0   \n",
       "1                        0.0                         1.0   \n",
       "2                        0.0                         0.0   \n",
       "3                        0.0                         0.0   \n",
       "4                        0.0                         0.0   \n",
       "\n",
       "   JobRole_Sales Executive  JobRole_Sales Representative  \\\n",
       "0                      0.0                           0.0   \n",
       "1                      0.0                           0.0   \n",
       "2                      1.0                           0.0   \n",
       "3                      0.0                           0.0   \n",
       "4                      1.0                           0.0   \n",
       "\n",
       "   MaritalStatus_Divorced  MaritalStatus_Married  MaritalStatus_Single  \\\n",
       "0                     0.0                    1.0                   0.0   \n",
       "1                     0.0                    0.0                   1.0   \n",
       "2                     0.0                    1.0                   0.0   \n",
       "3                     0.0                    1.0                   0.0   \n",
       "4                     0.0                    0.0                   1.0   \n",
       "\n",
       "   Attrition  \n",
       "0          0  \n",
       "1          1  \n",
       "2          0  \n",
       "3          0  \n",
       "4          0  \n",
       "\n",
       "[5 rows x 42 columns]"
      ]
     },
     "execution_count": 3,
     "metadata": {},
     "output_type": "execute_result"
    }
   ],
   "source": [
    "data.head()"
   ]
  },
  {
   "cell_type": "markdown",
   "metadata": {},
   "source": [
    "### Implementation of `DataSet` object for `DataLoader` "
   ]
  },
  {
   "cell_type": "code",
   "execution_count": 4,
   "metadata": {
    "id": "WuTcsd8UHdIE"
   },
   "outputs": [],
   "source": [
    "from torch.utils.data import DataLoader, Dataset"
   ]
  },
  {
   "cell_type": "code",
   "execution_count": 5,
   "metadata": {
    "id": "en3rT1-sHdIE"
   },
   "outputs": [],
   "source": [
    "class DataSet(Dataset):\n",
    "    def __init__(self, X, y=None, mode='train'):\n",
    "        self.X = X\n",
    "        self.y = y\n",
    "        self.mode=mode\n",
    "        \n",
    "    def __len__(self,):\n",
    "        return len(self.X)\n",
    "    \n",
    "    def __getitem__(self, idx):\n",
    "        xi = torch.tensor(self.X[idx]).float()\n",
    "        if self.mode!='test':\n",
    "            yi = torch.tensor(self.y[idx]).long()\n",
    "            return xi, yi\n",
    "        else:\n",
    "            return xi"
   ]
  },
  {
   "cell_type": "markdown",
   "metadata": {},
   "source": [
    "### Splitting data and defining generators"
   ]
  },
  {
   "cell_type": "code",
   "execution_count": 6,
   "metadata": {
    "id": "Yj27CeDXHdIF"
   },
   "outputs": [],
   "source": [
    "X = data.drop('Attrition', 1).to_numpy()\n",
    "y = data['Attrition'].to_numpy()"
   ]
  },
  {
   "cell_type": "code",
   "execution_count": 7,
   "metadata": {
    "id": "EKEUkF12HdIF"
   },
   "outputs": [],
   "source": [
    "from sklearn.model_selection import train_test_split"
   ]
  },
  {
   "cell_type": "code",
   "execution_count": 8,
   "metadata": {
    "id": "Xo8K1_wfHdIF"
   },
   "outputs": [],
   "source": [
    "X_train, X_test, y_train, y_test = train_test_split(X, y, test_size=0.2, random_state=42)"
   ]
  },
  {
   "cell_type": "code",
   "execution_count": 9,
   "metadata": {
    "id": "GRtPLqhUHdIF"
   },
   "outputs": [],
   "source": [
    "from torchvision.transforms import ToTensor"
   ]
  },
  {
   "cell_type": "code",
   "execution_count": 10,
   "metadata": {
    "id": "HFoqlMEFHdIG"
   },
   "outputs": [],
   "source": [
    "trainset = DataSet(X_train, y_train, mode='train')\n",
    "valset = DataSet(X_test, y_test, mode='val')\n",
    "\n",
    "traingen = DataLoader(trainset, batch_size=32, shuffle=False)\n",
    "valgen = DataLoader(valset, batch_size=32, shuffle=False)"
   ]
  },
  {
   "cell_type": "markdown",
   "metadata": {},
   "source": [
    "### Model Architectures"
   ]
  },
  {
   "cell_type": "code",
   "execution_count": 11,
   "metadata": {
    "id": "Z2Bjm94EHdIG"
   },
   "outputs": [],
   "source": [
    "from collections import OrderedDict\n",
    "\n",
    "class FCNN_relu(nn.Module):\n",
    "    def __init__(self, num_blocks=0):\n",
    "        super().__init__()\n",
    "        self.base=nn.Identity() if num_blocks==0 else self.compile(num_blocks)\n",
    "        self.fc=nn.Linear(41, 1) if num_blocks==0 else nn.Linear(100, 1)\n",
    "        \n",
    "    def forward(self, x):\n",
    "        x = self.base(x)\n",
    "        return self.fc(x)\n",
    "    \n",
    "    def block(self, b, num_blocks):\n",
    "        block = nn.Sequential()\n",
    "        if b==0:\n",
    "            block.add_module('linear'+str(b), nn.Linear(41, 100))\n",
    "            block.add_module('bn'+str(b), nn.BatchNorm1d(100))\n",
    "            block.add_module('relu'+str(b), nn.ReLU())\n",
    "            \n",
    "        elif b==(num_blocks-1):\n",
    "            block.add_module('drop'+str(b), nn.Dropout(0.2))\n",
    "            block.add_module('linear'+str(b), nn.Linear(100, 100))\n",
    "            block.add_module('bn'+str(b), nn.BatchNorm1d(100))\n",
    "            block.add_module('relu'+str(b), nn.ReLU())\n",
    "        else:\n",
    "            block.add_module('linear'+str(b), nn.Linear(100, 100))\n",
    "            block.add_module('bn'+str(b), nn.BatchNorm1d(100))\n",
    "            block.add_module('relu'+str(b), nn.ReLU())\n",
    "        return block\n",
    "        \n",
    "    def compile(self, num_blocks):\n",
    "        model = nn.Sequential()\n",
    "        for b in range(num_blocks):\n",
    "            model.add_module('block'+str(b), self.block(b, num_blocks))\n",
    "        return model"
   ]
  },
  {
   "cell_type": "code",
   "execution_count": 12,
   "metadata": {},
   "outputs": [],
   "source": [
    "from collections import OrderedDict\n",
    "\n",
    "class FCNN_lrelu(nn.Module):\n",
    "    def __init__(self, num_blocks=0):\n",
    "        super().__init__()\n",
    "        self.base=nn.Identity() if num_blocks==0 else self.compile(num_blocks)\n",
    "        self.fc=nn.Linear(41, 1) if num_blocks==0 else nn.Linear(100, 1)\n",
    "        \n",
    "    def forward(self, x):\n",
    "        x = self.base(x)\n",
    "        return self.fc(x)\n",
    "    \n",
    "    def block(self, b, num_blocks):\n",
    "        block = nn.Sequential()\n",
    "        if b==0:\n",
    "            block.add_module('linear'+str(b), nn.Linear(41, 100))\n",
    "            block.add_module('bn'+str(b), nn.BatchNorm1d(100))\n",
    "            block.add_module('lrelu'+str(b), nn.LeakyReLU(0.2))\n",
    "            \n",
    "        elif b==(num_blocks-1):\n",
    "            block.add_module('drop'+str(b), nn.Dropout(0.2))\n",
    "            block.add_module('linear'+str(b), nn.Linear(100, 100))\n",
    "            block.add_module('bn'+str(b), nn.BatchNorm1d(100))\n",
    "            block.add_module('lrelu'+str(b), nn.LeakyReLU(0.2))\n",
    "        else:\n",
    "            block.add_module('linear'+str(b), nn.Linear(100, 100))\n",
    "            block.add_module('bn'+str(b), nn.BatchNorm1d(100))\n",
    "            block.add_module('lrelu'+str(b), nn.LeakyReLU(0.2))\n",
    "        return block\n",
    "        \n",
    "    def compile(self, num_blocks):\n",
    "        model = nn.Sequential()\n",
    "        for b in range(num_blocks):\n",
    "            model.add_module('block'+str(b), self.block(b, num_blocks))\n",
    "        return model"
   ]
  },
  {
   "cell_type": "code",
   "execution_count": 13,
   "metadata": {},
   "outputs": [],
   "source": [
    "from collections import OrderedDict\n",
    "\n",
    "class FCNN_tnh(nn.Module):\n",
    "    def __init__(self, num_blocks=0):\n",
    "        super().__init__()\n",
    "        self.base=nn.Identity() if num_blocks==0 else self.compile(num_blocks)\n",
    "        self.fc=nn.Linear(41, 1) if num_blocks==0 else nn.Linear(100, 1)\n",
    "        \n",
    "    def forward(self, x):\n",
    "        x = self.base(x)\n",
    "        return self.fc(x)\n",
    "    \n",
    "    def block(self, b, num_blocks):\n",
    "        block = nn.Sequential()\n",
    "        if b==0:\n",
    "            block.add_module('linear'+str(b), nn.Linear(41, 100))\n",
    "            block.add_module('bn'+str(b), nn.BatchNorm1d(100))\n",
    "            block.add_module('tnh'+str(b), nn.Tanh())\n",
    "            \n",
    "        elif b==(num_blocks-1):\n",
    "            block.add_module('drop'+str(b), nn.Dropout(0.2))\n",
    "            block.add_module('linear'+str(b), nn.Linear(100, 100))\n",
    "            block.add_module('bn'+str(b), nn.BatchNorm1d(100))\n",
    "            block.add_module('tnh'+str(b), nn.Tanh())\n",
    "        else:\n",
    "            block.add_module('linear'+str(b), nn.Linear(100, 100))\n",
    "            block.add_module('bn'+str(b), nn.BatchNorm1d(100))\n",
    "            block.add_module('tnh'+str(b), nn.Tanh())\n",
    "        return block\n",
    "        \n",
    "    def compile(self, num_blocks):\n",
    "        model = nn.Sequential()\n",
    "        for b in range(num_blocks):\n",
    "            model.add_module('block'+str(b), self.block(b, num_blocks))\n",
    "        return model"
   ]
  },
  {
   "cell_type": "code",
   "execution_count": 14,
   "metadata": {},
   "outputs": [],
   "source": [
    "def train(model, criterion, optimizer, scheduler, metric, tgen, vgen, epochs=10, device='cuda:0'):\n",
    "    cache={'loss':[], 'acc': [], 'v_loss':[], 'v_acc':[], 'epoch':[]}\n",
    "    for epoch in range(1, epochs+1):\n",
    "        log = f'::: Epoch {epoch}/{epochs} :::'\n",
    "        model.train()\n",
    "        r_loss, r_acc = 0, 0\n",
    "        for x, y in tgen:\n",
    "            x, y = x.to(device), y.to(device)\n",
    "            y_ = model(x)     \n",
    "            loss = criterion(y_.view(-1), y.float())\n",
    "            acc = metric(y_.view(-1), y)\n",
    "            loss.backward()\n",
    "            \n",
    "            # Weights update\n",
    "            optimizer.step()\n",
    "            optimizer.zero_grad()\n",
    "            # Weights update\n",
    "            r_loss += loss.item()\n",
    "            r_acc += acc.item()\n",
    "\n",
    "        e_loss, e_acc = r_loss/len(tgen), r_acc/len(tgen)\n",
    "        cache['loss'].append(e_loss)\n",
    "        cache['acc'].append(e_acc)\n",
    "        cache['epoch'].append(epoch)\n",
    "        template = f' Train ::: Loss: {e_loss:.4f} ::: F1 score: {e_acc:.4f}'\n",
    "        print(log + template)\n",
    "        model.eval()\n",
    "        r_loss, r_acc = 0, 0\n",
    "        for x, y in vgen:\n",
    "            x, y = x.to(device), y.to(device)\n",
    "            y_ = model(x)\n",
    "            loss, acc = criterion(y_.view(-1), y.float()), metric(y_.view(-1), y)\n",
    "\n",
    "            r_loss += loss.item()\n",
    "            r_acc += acc.item()\n",
    "\n",
    "        e_loss, e_acc = r_loss/len(vgen), r_acc/len(vgen)\n",
    "        cache['v_loss'].append(e_loss)\n",
    "        cache['v_acc'].append(e_acc)\n",
    "        template = f' Validation ::: Loss: {e_loss:.4f} ::: F1 score: {e_acc:.4f}'\n",
    "        print(log + template)\n",
    "    return cache, model"
   ]
  },
  {
   "cell_type": "code",
   "execution_count": 15,
   "metadata": {
    "id": "h_ekyHZjHdIG"
   },
   "outputs": [],
   "source": [
    "def f1(pred, target, epsilon=1e-8):\n",
    "    from sklearn.metrics import f1_score\n",
    "    pred = (pred > 0).long().cpu().numpy()\n",
    "    target = target.cpu().numpy()\n",
    "    return f1_score(pred, target)"
   ]
  },
  {
   "cell_type": "markdown",
   "metadata": {},
   "source": [
    "## FCNN `Relu`"
   ]
  },
  {
   "cell_type": "code",
   "execution_count": 16,
   "metadata": {
    "id": "wjXRZQeUHdIH"
   },
   "outputs": [],
   "source": [
    "set_seed()\n",
    "model = FCNN_relu(num_blocks=5).to(device)\n",
    "criterion = nn.BCEWithLogitsLoss().to(device)\n",
    "optimizer = torch.optim.Adam(model.parameters(), lr=0.001)\n",
    "scheduler=torch.optim.lr_scheduler.StepLR(optimizer, step_size=150, gamma=0.9)"
   ]
  },
  {
   "cell_type": "code",
   "execution_count": 17,
   "metadata": {},
   "outputs": [
    {
     "name": "stdout",
     "output_type": "stream",
     "text": [
      "FCNN_relu(\n",
      "  (base): Sequential(\n",
      "    (block0): Sequential(\n",
      "      (linear0): Linear(in_features=41, out_features=100, bias=True)\n",
      "      (bn0): BatchNorm1d(100, eps=1e-05, momentum=0.1, affine=True, track_running_stats=True)\n",
      "      (relu0): ReLU()\n",
      "    )\n",
      "    (block1): Sequential(\n",
      "      (linear1): Linear(in_features=100, out_features=100, bias=True)\n",
      "      (bn1): BatchNorm1d(100, eps=1e-05, momentum=0.1, affine=True, track_running_stats=True)\n",
      "      (relu1): ReLU()\n",
      "    )\n",
      "    (block2): Sequential(\n",
      "      (linear2): Linear(in_features=100, out_features=100, bias=True)\n",
      "      (bn2): BatchNorm1d(100, eps=1e-05, momentum=0.1, affine=True, track_running_stats=True)\n",
      "      (relu2): ReLU()\n",
      "    )\n",
      "    (block3): Sequential(\n",
      "      (linear3): Linear(in_features=100, out_features=100, bias=True)\n",
      "      (bn3): BatchNorm1d(100, eps=1e-05, momentum=0.1, affine=True, track_running_stats=True)\n",
      "      (relu3): ReLU()\n",
      "    )\n",
      "    (block4): Sequential(\n",
      "      (drop4): Dropout(p=0.2, inplace=False)\n",
      "      (linear4): Linear(in_features=100, out_features=100, bias=True)\n",
      "      (bn4): BatchNorm1d(100, eps=1e-05, momentum=0.1, affine=True, track_running_stats=True)\n",
      "      (relu4): ReLU()\n",
      "    )\n",
      "  )\n",
      "  (fc): Linear(in_features=100, out_features=1, bias=True)\n",
      ")\n"
     ]
    }
   ],
   "source": [
    "print(model)"
   ]
  },
  {
   "cell_type": "code",
   "execution_count": 18,
   "metadata": {
    "colab": {
     "base_uri": "https://localhost:8080/"
    },
    "id": "Jc-VMuHCHdIH",
    "outputId": "709798c1-c9f2-4221-97d4-12a4d742c567",
    "scrolled": true
   },
   "outputs": [
    {
     "name": "stdout",
     "output_type": "stream",
     "text": [
      "::: Epoch 1/30 ::: Train ::: Loss: 0.4319 ::: F1 score: 0.1866\n",
      "::: Epoch 1/30 ::: Validation ::: Loss: 0.3584 ::: F1 score: 0.3392\n",
      "::: Epoch 2/30 ::: Train ::: Loss: 0.2749 ::: F1 score: 0.5121\n",
      "::: Epoch 2/30 ::: Validation ::: Loss: 0.2489 ::: F1 score: 0.6374\n",
      "::: Epoch 3/30 ::: Train ::: Loss: 0.1809 ::: F1 score: 0.7513\n",
      "::: Epoch 3/30 ::: Validation ::: Loss: 0.1750 ::: F1 score: 0.8061\n",
      "::: Epoch 4/30 ::: Train ::: Loss: 0.1025 ::: F1 score: 0.8864\n",
      "::: Epoch 4/30 ::: Validation ::: Loss: 0.1429 ::: F1 score: 0.8310\n",
      "::: Epoch 5/30 ::: Train ::: Loss: 0.0739 ::: F1 score: 0.9199\n",
      "::: Epoch 5/30 ::: Validation ::: Loss: 0.1448 ::: F1 score: 0.8509\n",
      "::: Epoch 6/30 ::: Train ::: Loss: 0.0607 ::: F1 score: 0.9350\n",
      "::: Epoch 6/30 ::: Validation ::: Loss: 0.1315 ::: F1 score: 0.8603\n",
      "::: Epoch 7/30 ::: Train ::: Loss: 0.0420 ::: F1 score: 0.9503\n",
      "::: Epoch 7/30 ::: Validation ::: Loss: 0.1100 ::: F1 score: 0.8745\n",
      "::: Epoch 8/30 ::: Train ::: Loss: 0.0496 ::: F1 score: 0.9417\n",
      "::: Epoch 8/30 ::: Validation ::: Loss: 0.0972 ::: F1 score: 0.8866\n",
      "::: Epoch 9/30 ::: Train ::: Loss: 0.0379 ::: F1 score: 0.9535\n",
      "::: Epoch 9/30 ::: Validation ::: Loss: 0.1327 ::: F1 score: 0.8827\n",
      "::: Epoch 10/30 ::: Train ::: Loss: 0.0394 ::: F1 score: 0.9634\n",
      "::: Epoch 10/30 ::: Validation ::: Loss: 0.0743 ::: F1 score: 0.9115\n",
      "::: Epoch 11/30 ::: Train ::: Loss: 0.0203 ::: F1 score: 0.9776\n",
      "::: Epoch 11/30 ::: Validation ::: Loss: 0.1005 ::: F1 score: 0.9172\n",
      "::: Epoch 12/30 ::: Train ::: Loss: 0.0320 ::: F1 score: 0.9584\n",
      "::: Epoch 12/30 ::: Validation ::: Loss: 0.0814 ::: F1 score: 0.8995\n",
      "::: Epoch 13/30 ::: Train ::: Loss: 0.0429 ::: F1 score: 0.9441\n",
      "::: Epoch 13/30 ::: Validation ::: Loss: 0.0685 ::: F1 score: 0.9040\n",
      "::: Epoch 14/30 ::: Train ::: Loss: 0.0261 ::: F1 score: 0.9697\n",
      "::: Epoch 14/30 ::: Validation ::: Loss: 0.0864 ::: F1 score: 0.9321\n",
      "::: Epoch 15/30 ::: Train ::: Loss: 0.0128 ::: F1 score: 0.9893\n",
      "::: Epoch 15/30 ::: Validation ::: Loss: 0.0797 ::: F1 score: 0.9321\n",
      "::: Epoch 16/30 ::: Train ::: Loss: 0.0055 ::: F1 score: 0.9976\n",
      "::: Epoch 16/30 ::: Validation ::: Loss: 0.0718 ::: F1 score: 0.9472\n",
      "::: Epoch 17/30 ::: Train ::: Loss: 0.0163 ::: F1 score: 0.9828\n",
      "::: Epoch 17/30 ::: Validation ::: Loss: 0.0865 ::: F1 score: 0.9249\n",
      "::: Epoch 18/30 ::: Train ::: Loss: 0.0223 ::: F1 score: 0.9693\n",
      "::: Epoch 18/30 ::: Validation ::: Loss: 0.1077 ::: F1 score: 0.9325\n",
      "::: Epoch 19/30 ::: Train ::: Loss: 0.0452 ::: F1 score: 0.9365\n",
      "::: Epoch 19/30 ::: Validation ::: Loss: 0.1452 ::: F1 score: 0.8206\n",
      "::: Epoch 20/30 ::: Train ::: Loss: 0.0452 ::: F1 score: 0.9402\n",
      "::: Epoch 20/30 ::: Validation ::: Loss: 0.1058 ::: F1 score: 0.9072\n",
      "::: Epoch 21/30 ::: Train ::: Loss: 0.0174 ::: F1 score: 0.9774\n",
      "::: Epoch 21/30 ::: Validation ::: Loss: 0.0590 ::: F1 score: 0.9674\n",
      "::: Epoch 22/30 ::: Train ::: Loss: 0.0089 ::: F1 score: 0.9925\n",
      "::: Epoch 22/30 ::: Validation ::: Loss: 0.0661 ::: F1 score: 0.9505\n",
      "::: Epoch 23/30 ::: Train ::: Loss: 0.0030 ::: F1 score: 0.9983\n",
      "::: Epoch 23/30 ::: Validation ::: Loss: 0.0785 ::: F1 score: 0.9584\n",
      "::: Epoch 24/30 ::: Train ::: Loss: 0.0022 ::: F1 score: 0.9992\n",
      "::: Epoch 24/30 ::: Validation ::: Loss: 0.0627 ::: F1 score: 0.9449\n",
      "::: Epoch 25/30 ::: Train ::: Loss: 0.0013 ::: F1 score: 1.0000\n",
      "::: Epoch 25/30 ::: Validation ::: Loss: 0.0548 ::: F1 score: 0.9707\n",
      "::: Epoch 26/30 ::: Train ::: Loss: 0.0007 ::: F1 score: 1.0000\n",
      "::: Epoch 26/30 ::: Validation ::: Loss: 0.0547 ::: F1 score: 0.9707\n",
      "::: Epoch 27/30 ::: Train ::: Loss: 0.0010 ::: F1 score: 1.0000\n",
      "::: Epoch 27/30 ::: Validation ::: Loss: 0.0543 ::: F1 score: 0.9707\n",
      "::: Epoch 28/30 ::: Train ::: Loss: 0.0006 ::: F1 score: 1.0000\n",
      "::: Epoch 28/30 ::: Validation ::: Loss: 0.0532 ::: F1 score: 0.9707\n",
      "::: Epoch 29/30 ::: Train ::: Loss: 0.0007 ::: F1 score: 1.0000\n",
      "::: Epoch 29/30 ::: Validation ::: Loss: 0.0512 ::: F1 score: 0.9707\n",
      "::: Epoch 30/30 ::: Train ::: Loss: 0.0005 ::: F1 score: 1.0000\n",
      "::: Epoch 30/30 ::: Validation ::: Loss: 0.0485 ::: F1 score: 0.9707\n",
      "Wall time: 27.3 s\n"
     ]
    }
   ],
   "source": [
    "%%time\n",
    "historyRelu, model = train(model, criterion, optimizer, scheduler, f1, traingen, valgen, epochs=30)"
   ]
  },
  {
   "cell_type": "code",
   "execution_count": 19,
   "metadata": {
    "id": "gQ3xIJX5HdIH"
   },
   "outputs": [],
   "source": [
    "#torch.save(model, 'fcnn_relu.h5')"
   ]
  },
  {
   "cell_type": "code",
   "execution_count": 20,
   "metadata": {
    "id": "fGnfRPfBHdIH"
   },
   "outputs": [],
   "source": [
    "def predict(model, testgen, device='cuda:0'):\n",
    "    model.eval()\n",
    "    pred = []\n",
    "    true = []\n",
    "    for x, y in testgen:\n",
    "        x, y = x.to(device), y.to(device)\n",
    "        y_ = model(x)\n",
    "        true += list(torch.flatten(y.data).cpu().numpy())\n",
    "        pred += list(torch.flatten(y_.data).cpu().numpy())\n",
    "    return (np.array(pred)>0).astype(int), np.array(true)"
   ]
  },
  {
   "cell_type": "code",
   "execution_count": 21,
   "metadata": {},
   "outputs": [],
   "source": [
    "pred, true = predict(model, valgen)"
   ]
  },
  {
   "cell_type": "code",
   "execution_count": 22,
   "metadata": {
    "id": "bUKWSiQeJk4M"
   },
   "outputs": [
    {
     "name": "stdout",
     "output_type": "stream",
     "text": [
      "Accuracy: 0.993 ::: F1: 0.979\n",
      "Precision: 0.979 ::: Recall: 0.979\n"
     ]
    }
   ],
   "source": [
    "from sklearn.metrics import accuracy_score, f1_score, precision_score, recall_score\n",
    "\n",
    "print(f'Accuracy: {accuracy_score(pred, true):.3f} ::: F1: {f1_score(pred, true):.3f}')\n",
    "print(f'Precision: {precision_score(pred, true):.3f} ::: Recall: {recall_score(pred, true):.3f}')"
   ]
  },
  {
   "cell_type": "markdown",
   "metadata": {},
   "source": [
    "## FCNN `LeakyRelu`"
   ]
  },
  {
   "cell_type": "code",
   "execution_count": 23,
   "metadata": {
    "id": "ACtVhhGTKKaI"
   },
   "outputs": [],
   "source": [
    "set_seed()\n",
    "model = FCNN_lrelu(num_blocks=5).to(device)\n",
    "criterion = nn.BCEWithLogitsLoss().to(device)\n",
    "optimizer = torch.optim.Adam(model.parameters(), lr=0.001)\n",
    "scheduler=torch.optim.lr_scheduler.StepLR(optimizer, step_size=150, gamma=0.9)"
   ]
  },
  {
   "cell_type": "code",
   "execution_count": 24,
   "metadata": {
    "colab": {
     "base_uri": "https://localhost:8080/"
    },
    "id": "rHOSfEwaKVaH",
    "outputId": "6d48f4a4-c2a2-4635-9b46-d04c0d139b97"
   },
   "outputs": [
    {
     "name": "stdout",
     "output_type": "stream",
     "text": [
      "::: Epoch 1/30 ::: Train ::: Loss: 0.4421 ::: F1 score: 0.2865\n",
      "::: Epoch 1/30 ::: Validation ::: Loss: 0.3749 ::: F1 score: 0.2117\n",
      "::: Epoch 2/30 ::: Train ::: Loss: 0.3107 ::: F1 score: 0.4339\n",
      "::: Epoch 2/30 ::: Validation ::: Loss: 0.3241 ::: F1 score: 0.4461\n",
      "::: Epoch 3/30 ::: Train ::: Loss: 0.2455 ::: F1 score: 0.6283\n",
      "::: Epoch 3/30 ::: Validation ::: Loss: 0.2722 ::: F1 score: 0.5490\n",
      "::: Epoch 4/30 ::: Train ::: Loss: 0.1818 ::: F1 score: 0.7503\n",
      "::: Epoch 4/30 ::: Validation ::: Loss: 0.2165 ::: F1 score: 0.6616\n",
      "::: Epoch 5/30 ::: Train ::: Loss: 0.1350 ::: F1 score: 0.8226\n",
      "::: Epoch 5/30 ::: Validation ::: Loss: 0.2080 ::: F1 score: 0.7677\n",
      "::: Epoch 6/30 ::: Train ::: Loss: 0.1074 ::: F1 score: 0.8600\n",
      "::: Epoch 6/30 ::: Validation ::: Loss: 0.2042 ::: F1 score: 0.7418\n",
      "::: Epoch 7/30 ::: Train ::: Loss: 0.0874 ::: F1 score: 0.8809\n",
      "::: Epoch 7/30 ::: Validation ::: Loss: 0.1409 ::: F1 score: 0.7863\n",
      "::: Epoch 8/30 ::: Train ::: Loss: 0.0666 ::: F1 score: 0.9221\n",
      "::: Epoch 8/30 ::: Validation ::: Loss: 0.1509 ::: F1 score: 0.7804\n",
      "::: Epoch 9/30 ::: Train ::: Loss: 0.0487 ::: F1 score: 0.9473\n",
      "::: Epoch 9/30 ::: Validation ::: Loss: 0.1087 ::: F1 score: 0.8622\n",
      "::: Epoch 10/30 ::: Train ::: Loss: 0.0487 ::: F1 score: 0.9338\n",
      "::: Epoch 10/30 ::: Validation ::: Loss: 0.1599 ::: F1 score: 0.7821\n",
      "::: Epoch 11/30 ::: Train ::: Loss: 0.0475 ::: F1 score: 0.9443\n",
      "::: Epoch 11/30 ::: Validation ::: Loss: 0.1313 ::: F1 score: 0.8525\n",
      "::: Epoch 12/30 ::: Train ::: Loss: 0.0391 ::: F1 score: 0.9616\n",
      "::: Epoch 12/30 ::: Validation ::: Loss: 0.1430 ::: F1 score: 0.8614\n",
      "::: Epoch 13/30 ::: Train ::: Loss: 0.0456 ::: F1 score: 0.9366\n",
      "::: Epoch 13/30 ::: Validation ::: Loss: 0.1415 ::: F1 score: 0.8298\n",
      "::: Epoch 14/30 ::: Train ::: Loss: 0.0567 ::: F1 score: 0.9250\n",
      "::: Epoch 14/30 ::: Validation ::: Loss: 0.1430 ::: F1 score: 0.8563\n",
      "::: Epoch 15/30 ::: Train ::: Loss: 0.0384 ::: F1 score: 0.9425\n",
      "::: Epoch 15/30 ::: Validation ::: Loss: 0.1500 ::: F1 score: 0.8513\n",
      "::: Epoch 16/30 ::: Train ::: Loss: 0.0145 ::: F1 score: 0.9763\n",
      "::: Epoch 16/30 ::: Validation ::: Loss: 0.0954 ::: F1 score: 0.9150\n",
      "::: Epoch 17/30 ::: Train ::: Loss: 0.0133 ::: F1 score: 0.9815\n",
      "::: Epoch 17/30 ::: Validation ::: Loss: 0.1082 ::: F1 score: 0.8719\n",
      "::: Epoch 18/30 ::: Train ::: Loss: 0.0153 ::: F1 score: 0.9822\n",
      "::: Epoch 18/30 ::: Validation ::: Loss: 0.1175 ::: F1 score: 0.8782\n",
      "::: Epoch 19/30 ::: Train ::: Loss: 0.0164 ::: F1 score: 0.9797\n",
      "::: Epoch 19/30 ::: Validation ::: Loss: 0.1404 ::: F1 score: 0.8736\n",
      "::: Epoch 20/30 ::: Train ::: Loss: 0.0175 ::: F1 score: 0.9832\n",
      "::: Epoch 20/30 ::: Validation ::: Loss: 0.1049 ::: F1 score: 0.8976\n",
      "::: Epoch 21/30 ::: Train ::: Loss: 0.0239 ::: F1 score: 0.9716\n",
      "::: Epoch 21/30 ::: Validation ::: Loss: 0.2069 ::: F1 score: 0.8017\n",
      "::: Epoch 22/30 ::: Train ::: Loss: 0.0348 ::: F1 score: 0.9555\n",
      "::: Epoch 22/30 ::: Validation ::: Loss: 0.1211 ::: F1 score: 0.8714\n",
      "::: Epoch 23/30 ::: Train ::: Loss: 0.0470 ::: F1 score: 0.9418\n",
      "::: Epoch 23/30 ::: Validation ::: Loss: 0.1617 ::: F1 score: 0.8364\n",
      "::: Epoch 24/30 ::: Train ::: Loss: 0.0217 ::: F1 score: 0.9710\n",
      "::: Epoch 24/30 ::: Validation ::: Loss: 0.0986 ::: F1 score: 0.8961\n",
      "::: Epoch 25/30 ::: Train ::: Loss: 0.0066 ::: F1 score: 0.9956\n",
      "::: Epoch 25/30 ::: Validation ::: Loss: 0.0877 ::: F1 score: 0.9288\n",
      "::: Epoch 26/30 ::: Train ::: Loss: 0.0021 ::: F1 score: 1.0000\n",
      "::: Epoch 26/30 ::: Validation ::: Loss: 0.0793 ::: F1 score: 0.9571\n",
      "::: Epoch 27/30 ::: Train ::: Loss: 0.0014 ::: F1 score: 1.0000\n",
      "::: Epoch 27/30 ::: Validation ::: Loss: 0.0768 ::: F1 score: 0.9656\n",
      "::: Epoch 28/30 ::: Train ::: Loss: 0.0008 ::: F1 score: 1.0000\n",
      "::: Epoch 28/30 ::: Validation ::: Loss: 0.0749 ::: F1 score: 0.9707\n",
      "::: Epoch 29/30 ::: Train ::: Loss: 0.0009 ::: F1 score: 1.0000\n",
      "::: Epoch 29/30 ::: Validation ::: Loss: 0.0793 ::: F1 score: 0.9586\n",
      "::: Epoch 30/30 ::: Train ::: Loss: 0.0006 ::: F1 score: 1.0000\n",
      "::: Epoch 30/30 ::: Validation ::: Loss: 0.0796 ::: F1 score: 0.9639\n",
      "Wall time: 24.8 s\n"
     ]
    }
   ],
   "source": [
    "%%time\n",
    "historyLRelu, model = train(model, criterion, optimizer, scheduler, f1, traingen, valgen, epochs=30)"
   ]
  },
  {
   "cell_type": "code",
   "execution_count": 38,
   "metadata": {},
   "outputs": [],
   "source": [
    "#torch.save(model, 'fcnn_lrelu.h5')"
   ]
  },
  {
   "cell_type": "code",
   "execution_count": 37,
   "metadata": {},
   "outputs": [
    {
     "name": "stdout",
     "output_type": "stream",
     "text": [
      "Accuracy: 0.984 ::: F1: 0.950\n",
      "Precision: 0.936 ::: Recall: 0.964\n"
     ]
    }
   ],
   "source": [
    "pred, true = predict(model, valgen)\n",
    "\n",
    "from sklearn.metrics import accuracy_score, f1_score, precision_score, recall_score\n",
    "\n",
    "print(f'Accuracy: {accuracy_score(pred, true):.3f} ::: F1: {f1_score(pred, true):.3f}')\n",
    "print(f'Precision: {precision_score(pred, true):.3f} ::: Recall: {recall_score(pred, true):.3f}')"
   ]
  },
  {
   "cell_type": "markdown",
   "metadata": {},
   "source": [
    "## FCNN `Tanh`"
   ]
  },
  {
   "cell_type": "code",
   "execution_count": 25,
   "metadata": {},
   "outputs": [],
   "source": [
    "set_seed()\n",
    "model = FCNN_tnh(num_blocks=1).to(device)\n",
    "criterion = nn.BCEWithLogitsLoss().to(device)\n",
    "optimizer = torch.optim.Adam(model.parameters(), lr=0.001)\n",
    "scheduler=torch.optim.lr_scheduler.StepLR(optimizer, step_size=150, gamma=0.9)"
   ]
  },
  {
   "cell_type": "code",
   "execution_count": 26,
   "metadata": {},
   "outputs": [
    {
     "name": "stdout",
     "output_type": "stream",
     "text": [
      "::: Epoch 1/30 ::: Train ::: Loss: 0.6025 ::: F1 score: 0.3963\n",
      "::: Epoch 1/30 ::: Validation ::: Loss: 0.5173 ::: F1 score: 0.3984\n",
      "::: Epoch 2/30 ::: Train ::: Loss: 0.4149 ::: F1 score: 0.4028\n",
      "::: Epoch 2/30 ::: Validation ::: Loss: 0.3919 ::: F1 score: 0.2358\n",
      "::: Epoch 3/30 ::: Train ::: Loss: 0.3449 ::: F1 score: 0.3378\n",
      "::: Epoch 3/30 ::: Validation ::: Loss: 0.3672 ::: F1 score: 0.2584\n",
      "::: Epoch 4/30 ::: Train ::: Loss: 0.3231 ::: F1 score: 0.3710\n",
      "::: Epoch 4/30 ::: Validation ::: Loss: 0.3548 ::: F1 score: 0.2720\n",
      "::: Epoch 5/30 ::: Train ::: Loss: 0.3068 ::: F1 score: 0.4096\n",
      "::: Epoch 5/30 ::: Validation ::: Loss: 0.3429 ::: F1 score: 0.2845\n",
      "::: Epoch 6/30 ::: Train ::: Loss: 0.2912 ::: F1 score: 0.4570\n",
      "::: Epoch 6/30 ::: Validation ::: Loss: 0.3305 ::: F1 score: 0.3533\n",
      "::: Epoch 7/30 ::: Train ::: Loss: 0.2753 ::: F1 score: 0.5066\n",
      "::: Epoch 7/30 ::: Validation ::: Loss: 0.3175 ::: F1 score: 0.3896\n",
      "::: Epoch 8/30 ::: Train ::: Loss: 0.2588 ::: F1 score: 0.5561\n",
      "::: Epoch 8/30 ::: Validation ::: Loss: 0.3035 ::: F1 score: 0.4364\n",
      "::: Epoch 9/30 ::: Train ::: Loss: 0.2416 ::: F1 score: 0.5899\n",
      "::: Epoch 9/30 ::: Validation ::: Loss: 0.2884 ::: F1 score: 0.4809\n",
      "::: Epoch 10/30 ::: Train ::: Loss: 0.2237 ::: F1 score: 0.6528\n",
      "::: Epoch 10/30 ::: Validation ::: Loss: 0.2723 ::: F1 score: 0.5499\n",
      "::: Epoch 11/30 ::: Train ::: Loss: 0.2056 ::: F1 score: 0.7064\n",
      "::: Epoch 11/30 ::: Validation ::: Loss: 0.2553 ::: F1 score: 0.5846\n",
      "::: Epoch 12/30 ::: Train ::: Loss: 0.1875 ::: F1 score: 0.7474\n",
      "::: Epoch 12/30 ::: Validation ::: Loss: 0.2377 ::: F1 score: 0.6018\n",
      "::: Epoch 13/30 ::: Train ::: Loss: 0.1699 ::: F1 score: 0.8045\n",
      "::: Epoch 13/30 ::: Validation ::: Loss: 0.2202 ::: F1 score: 0.6510\n",
      "::: Epoch 14/30 ::: Train ::: Loss: 0.1530 ::: F1 score: 0.8319\n",
      "::: Epoch 14/30 ::: Validation ::: Loss: 0.2030 ::: F1 score: 0.6860\n",
      "::: Epoch 15/30 ::: Train ::: Loss: 0.1370 ::: F1 score: 0.8645\n",
      "::: Epoch 15/30 ::: Validation ::: Loss: 0.1864 ::: F1 score: 0.7202\n",
      "::: Epoch 16/30 ::: Train ::: Loss: 0.1221 ::: F1 score: 0.9142\n",
      "::: Epoch 16/30 ::: Validation ::: Loss: 0.1706 ::: F1 score: 0.7675\n",
      "::: Epoch 17/30 ::: Train ::: Loss: 0.1085 ::: F1 score: 0.9320\n",
      "::: Epoch 17/30 ::: Validation ::: Loss: 0.1557 ::: F1 score: 0.7944\n",
      "::: Epoch 18/30 ::: Train ::: Loss: 0.0962 ::: F1 score: 0.9505\n",
      "::: Epoch 18/30 ::: Validation ::: Loss: 0.1423 ::: F1 score: 0.7969\n",
      "::: Epoch 19/30 ::: Train ::: Loss: 0.0852 ::: F1 score: 0.9632\n",
      "::: Epoch 19/30 ::: Validation ::: Loss: 0.1304 ::: F1 score: 0.8474\n",
      "::: Epoch 20/30 ::: Train ::: Loss: 0.0754 ::: F1 score: 0.9709\n",
      "::: Epoch 20/30 ::: Validation ::: Loss: 0.1198 ::: F1 score: 0.8556\n",
      "::: Epoch 21/30 ::: Train ::: Loss: 0.0668 ::: F1 score: 0.9760\n",
      "::: Epoch 21/30 ::: Validation ::: Loss: 0.1106 ::: F1 score: 0.8583\n",
      "::: Epoch 22/30 ::: Train ::: Loss: 0.0592 ::: F1 score: 0.9824\n",
      "::: Epoch 22/30 ::: Validation ::: Loss: 0.1026 ::: F1 score: 0.8898\n",
      "::: Epoch 23/30 ::: Train ::: Loss: 0.0526 ::: F1 score: 0.9873\n",
      "::: Epoch 23/30 ::: Validation ::: Loss: 0.0955 ::: F1 score: 0.9142\n",
      "::: Epoch 24/30 ::: Train ::: Loss: 0.0468 ::: F1 score: 0.9906\n",
      "::: Epoch 24/30 ::: Validation ::: Loss: 0.0896 ::: F1 score: 0.9210\n",
      "::: Epoch 25/30 ::: Train ::: Loss: 0.0417 ::: F1 score: 0.9937\n",
      "::: Epoch 25/30 ::: Validation ::: Loss: 0.0841 ::: F1 score: 0.9210\n",
      "::: Epoch 26/30 ::: Train ::: Loss: 0.0373 ::: F1 score: 0.9973\n",
      "::: Epoch 26/30 ::: Validation ::: Loss: 0.0794 ::: F1 score: 0.9347\n",
      "::: Epoch 27/30 ::: Train ::: Loss: 0.0333 ::: F1 score: 0.9986\n",
      "::: Epoch 27/30 ::: Validation ::: Loss: 0.0751 ::: F1 score: 0.9406\n",
      "::: Epoch 28/30 ::: Train ::: Loss: 0.0299 ::: F1 score: 0.9992\n",
      "::: Epoch 28/30 ::: Validation ::: Loss: 0.0714 ::: F1 score: 0.9490\n",
      "::: Epoch 29/30 ::: Train ::: Loss: 0.0268 ::: F1 score: 1.0000\n",
      "::: Epoch 29/30 ::: Validation ::: Loss: 0.0680 ::: F1 score: 0.9529\n",
      "::: Epoch 30/30 ::: Train ::: Loss: 0.0242 ::: F1 score: 1.0000\n",
      "::: Epoch 30/30 ::: Validation ::: Loss: 0.0651 ::: F1 score: 0.9529\n",
      "Wall time: 14 s\n"
     ]
    }
   ],
   "source": [
    "%%time\n",
    "historyTanh, model = train(model, criterion, optimizer, scheduler, f1, traingen, valgen, epochs=30)"
   ]
  },
  {
   "cell_type": "code",
   "execution_count": 27,
   "metadata": {},
   "outputs": [],
   "source": [
    "#torch.save(model, 'fcnn_tnh.h5')"
   ]
  },
  {
   "cell_type": "code",
   "execution_count": 28,
   "metadata": {},
   "outputs": [
    {
     "name": "stdout",
     "output_type": "stream",
     "text": [
      "Accuracy: 0.988 ::: F1: 0.960\n",
      "Precision: 0.943 ::: Recall: 0.978\n"
     ]
    }
   ],
   "source": [
    "pred, true = predict(model, valgen)\n",
    "\n",
    "from sklearn.metrics import accuracy_score, f1_score, precision_score, recall_score\n",
    "\n",
    "print(f'Accuracy: {accuracy_score(pred, true):.3f} ::: F1: {f1_score(pred, true):.3f}')\n",
    "print(f'Precision: {precision_score(pred, true):.3f} ::: Recall: {recall_score(pred, true):.3f}')"
   ]
  },
  {
   "cell_type": "code",
   "execution_count": 29,
   "metadata": {
    "id": "kggLoNJQK1Nf"
   },
   "outputs": [],
   "source": [
    "def plot(data, x, y, title, labels, size=(10,7)):\n",
    "    plt.figure(figsize=size)\n",
    "    plt.title(title, fontsize=14)\n",
    "    colors=['-g', '-b', '-r']\n",
    "    for i, d in enumerate(data):\n",
    "        plt.plot(range(1, len(d)+1), d, colors[i], label=labels[i])\n",
    "    plt.xlabel(x, fontsize=12)\n",
    "    plt.ylabel(y, fontsize=12)\n",
    "    plt.grid()\n",
    "    plt.legend()\n",
    "    return plt.show()"
   ]
  },
  {
   "cell_type": "code",
   "execution_count": 33,
   "metadata": {
    "id": "KNspkgpzMRkg"
   },
   "outputs": [
    {
     "data": {
      "image/png": "[encoded data removed]",
      "text/plain": [
       "<Figure size 576x432 with 1 Axes>"
      ]
     },
     "metadata": {
      "needs_background": "light"
     },
     "output_type": "display_data"
    }
   ],
   "source": [
    "plot([historyRelu['acc'], historyLRelu['acc'], historyTanh['acc']],\n",
    "     x='epoch', y='accyracy', title='Train',\n",
    "     labels=['ReLU (n_blocks=5)', 'LeakyReLU (n_blocks=5)', 'Tanh (n_blocks=1)'],\n",
    "     size=(8,6))"
   ]
  },
  {
   "cell_type": "code",
   "execution_count": 34,
   "metadata": {},
   "outputs": [
    {
     "data": {
      "image/png": "[encoded data removed]",
      "text/plain": [
       "<Figure size 576x432 with 1 Axes>"
      ]
     },
     "metadata": {
      "needs_background": "light"
     },
     "output_type": "display_data"
    }
   ],
   "source": [
    "plot([historyRelu['v_acc'], historyLRelu['v_acc'], historyTanh['v_acc']],\n",
    "     x='epoch', y='accyracy', title='Val',\n",
    "     labels=['ReLU (n_blocks=5)', 'LeakyReLU (n_blocks=5)', 'Tanh (n_blocks=1)'],\n",
    "     size=(8,6))"
   ]
  },
  {
   "cell_type": "code",
   "execution_count": null,
   "metadata": {},
   "outputs": [],
   "source": []
  }
 ],
 "metadata": {
  "accelerator": "GPU",
  "colab": {
   "name": "NeuralNet.ipynb",
   "provenance": []
  },
  "kernelspec": {
   "display_name": "Python 3",
   "language": "python",
   "name": "python3"
  },
  "language_info": {
   "codemirror_mode": {
    "name": "ipython",
    "version": 3
   },
   "file_extension": ".py",
   "mimetype": "text/x-python",
   "name": "python",
   "nbconvert_exporter": "python",
   "pygments_lexer": "ipython3",
   "version": "3.8.5"
  }
 },
 "nbformat": 4,
 "nbformat_minor": 1
}
